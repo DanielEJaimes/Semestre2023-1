{
  "nbformat": 4,
  "nbformat_minor": 0,
  "metadata": {
    "colab": {
      "provenance": [],
      "collapsed_sections": [
        "nT0uCxfdAvg0",
        "n5n1F4iPSdj1",
        "DC6bzf4vS1zN",
        "OPUGtIm6FRCU"
      ]
    },
    "kernelspec": {
      "name": "python3",
      "display_name": "Python 3"
    },
    "language_info": {
      "name": "python"
    }
  },
  "cells": [
    {
      "cell_type": "markdown",
      "source": [
        "# ***Daniel Enrique Patiño Jaimes 000421816***"
      ],
      "metadata": {
        "id": "D93YzrbJDPjH"
      }
    },
    {
      "cell_type": "markdown",
      "source": [
        "\n",
        "# ***David Santiago Velasco Daza 000430882***"
      ],
      "metadata": {
        "id": "U0ipqVDWEID8"
      }
    },
    {
      "cell_type": "markdown",
      "source": [
        "# Usando la base de datos de cancer de mama disponible en: https://archive.ics.uci.edu/ml/datasets/breast+cancer+wisconsin+(diagnostic) realizar un modelo de regresión logística que permita categorizar correctamente los registros entre pacientes sanos y no sanos."
      ],
      "metadata": {
        "id": "Oym1r6NeP_IW"
      }
    },
    {
      "cell_type": "markdown",
      "source": [
        "## Librerías necesarias"
      ],
      "metadata": {
        "id": "_uk0l7uLBCoE"
      }
    },
    {
      "cell_type": "code",
      "execution_count": 1,
      "metadata": {
        "id": "tvGr6R-lM7LO"
      },
      "outputs": [],
      "source": [
        "import numpy as np\n",
        "import pandas as pd\n",
        "import matplotlib.pyplot as plt\n",
        "import math\n",
        "from sklearn.linear_model import LogisticRegression\n",
        "from sklearn.neighbors import KNeighborsClassifier\n",
        "from sklearn.model_selection import train_test_split"
      ]
    },
    {
      "cell_type": "markdown",
      "source": [
        "## Lectura del csv y asignación de nombres a columnas"
      ],
      "metadata": {
        "id": "TAQ1Uu37BFbz"
      }
    },
    {
      "cell_type": "code",
      "source": [
        "data = pd.read_csv('cancer_mama.csv')\n",
        "columnas = ['id','resultado']\n",
        "for i in range(1,31,1):\n",
        "  columnas.append(\"c\"+str(i))\n",
        "data.columns=columnas\n",
        "data"
      ],
      "metadata": {
        "colab": {
          "base_uri": "https://localhost:8080/",
          "height": 424
        },
        "id": "8LEKadt-Axoj",
        "outputId": "10dfa5d2-b9a9-4ef5-d8db-ea75ccf70e28"
      },
      "execution_count": 2,
      "outputs": [
        {
          "output_type": "execute_result",
          "data": {
            "text/plain": [
              "           id resultado     c1     c2      c3      c4       c5       c6  \\\n",
              "0      842517         M  20.57  17.77  132.90  1326.0  0.08474  0.07864   \n",
              "1    84300903         M  19.69  21.25  130.00  1203.0  0.10960  0.15990   \n",
              "2    84348301         M  11.42  20.38   77.58   386.1  0.14250  0.28390   \n",
              "3    84358402         M  20.29  14.34  135.10  1297.0  0.10030  0.13280   \n",
              "4      843786         M  12.45  15.70   82.57   477.1  0.12780  0.17000   \n",
              "..        ...       ...    ...    ...     ...     ...      ...      ...   \n",
              "563    926424         M  21.56  22.39  142.00  1479.0  0.11100  0.11590   \n",
              "564    926682         M  20.13  28.25  131.20  1261.0  0.09780  0.10340   \n",
              "565    926954         M  16.60  28.08  108.30   858.1  0.08455  0.10230   \n",
              "566    927241         M  20.60  29.33  140.10  1265.0  0.11780  0.27700   \n",
              "567     92751         B   7.76  24.54   47.92   181.0  0.05263  0.04362   \n",
              "\n",
              "          c7       c8  ...     c21    c22     c23     c24      c25      c26  \\\n",
              "0    0.08690  0.07017  ...  24.990  23.41  158.80  1956.0  0.12380  0.18660   \n",
              "1    0.19740  0.12790  ...  23.570  25.53  152.50  1709.0  0.14440  0.42450   \n",
              "2    0.24140  0.10520  ...  14.910  26.50   98.87   567.7  0.20980  0.86630   \n",
              "3    0.19800  0.10430  ...  22.540  16.67  152.20  1575.0  0.13740  0.20500   \n",
              "4    0.15780  0.08089  ...  15.470  23.75  103.40   741.6  0.17910  0.52490   \n",
              "..       ...      ...  ...     ...    ...     ...     ...      ...      ...   \n",
              "563  0.24390  0.13890  ...  25.450  26.40  166.10  2027.0  0.14100  0.21130   \n",
              "564  0.14400  0.09791  ...  23.690  38.25  155.00  1731.0  0.11660  0.19220   \n",
              "565  0.09251  0.05302  ...  18.980  34.12  126.70  1124.0  0.11390  0.30940   \n",
              "566  0.35140  0.15200  ...  25.740  39.42  184.60  1821.0  0.16500  0.86810   \n",
              "567  0.00000  0.00000  ...   9.456  30.37   59.16   268.6  0.08996  0.06444   \n",
              "\n",
              "        c27     c28     c29      c30  \n",
              "0    0.2416  0.1860  0.2750  0.08902  \n",
              "1    0.4504  0.2430  0.3613  0.08758  \n",
              "2    0.6869  0.2575  0.6638  0.17300  \n",
              "3    0.4000  0.1625  0.2364  0.07678  \n",
              "4    0.5355  0.1741  0.3985  0.12440  \n",
              "..      ...     ...     ...      ...  \n",
              "563  0.4107  0.2216  0.2060  0.07115  \n",
              "564  0.3215  0.1628  0.2572  0.06637  \n",
              "565  0.3403  0.1418  0.2218  0.07820  \n",
              "566  0.9387  0.2650  0.4087  0.12400  \n",
              "567  0.0000  0.0000  0.2871  0.07039  \n",
              "\n",
              "[568 rows x 32 columns]"
            ],
            "text/html": [
              "\n",
              "  <div id=\"df-8cf13a2b-4acf-44ee-b954-70737954a936\">\n",
              "    <div class=\"colab-df-container\">\n",
              "      <div>\n",
              "<style scoped>\n",
              "    .dataframe tbody tr th:only-of-type {\n",
              "        vertical-align: middle;\n",
              "    }\n",
              "\n",
              "    .dataframe tbody tr th {\n",
              "        vertical-align: top;\n",
              "    }\n",
              "\n",
              "    .dataframe thead th {\n",
              "        text-align: right;\n",
              "    }\n",
              "</style>\n",
              "<table border=\"1\" class=\"dataframe\">\n",
              "  <thead>\n",
              "    <tr style=\"text-align: right;\">\n",
              "      <th></th>\n",
              "      <th>id</th>\n",
              "      <th>resultado</th>\n",
              "      <th>c1</th>\n",
              "      <th>c2</th>\n",
              "      <th>c3</th>\n",
              "      <th>c4</th>\n",
              "      <th>c5</th>\n",
              "      <th>c6</th>\n",
              "      <th>c7</th>\n",
              "      <th>c8</th>\n",
              "      <th>...</th>\n",
              "      <th>c21</th>\n",
              "      <th>c22</th>\n",
              "      <th>c23</th>\n",
              "      <th>c24</th>\n",
              "      <th>c25</th>\n",
              "      <th>c26</th>\n",
              "      <th>c27</th>\n",
              "      <th>c28</th>\n",
              "      <th>c29</th>\n",
              "      <th>c30</th>\n",
              "    </tr>\n",
              "  </thead>\n",
              "  <tbody>\n",
              "    <tr>\n",
              "      <th>0</th>\n",
              "      <td>842517</td>\n",
              "      <td>M</td>\n",
              "      <td>20.57</td>\n",
              "      <td>17.77</td>\n",
              "      <td>132.90</td>\n",
              "      <td>1326.0</td>\n",
              "      <td>0.08474</td>\n",
              "      <td>0.07864</td>\n",
              "      <td>0.08690</td>\n",
              "      <td>0.07017</td>\n",
              "      <td>...</td>\n",
              "      <td>24.990</td>\n",
              "      <td>23.41</td>\n",
              "      <td>158.80</td>\n",
              "      <td>1956.0</td>\n",
              "      <td>0.12380</td>\n",
              "      <td>0.18660</td>\n",
              "      <td>0.2416</td>\n",
              "      <td>0.1860</td>\n",
              "      <td>0.2750</td>\n",
              "      <td>0.08902</td>\n",
              "    </tr>\n",
              "    <tr>\n",
              "      <th>1</th>\n",
              "      <td>84300903</td>\n",
              "      <td>M</td>\n",
              "      <td>19.69</td>\n",
              "      <td>21.25</td>\n",
              "      <td>130.00</td>\n",
              "      <td>1203.0</td>\n",
              "      <td>0.10960</td>\n",
              "      <td>0.15990</td>\n",
              "      <td>0.19740</td>\n",
              "      <td>0.12790</td>\n",
              "      <td>...</td>\n",
              "      <td>23.570</td>\n",
              "      <td>25.53</td>\n",
              "      <td>152.50</td>\n",
              "      <td>1709.0</td>\n",
              "      <td>0.14440</td>\n",
              "      <td>0.42450</td>\n",
              "      <td>0.4504</td>\n",
              "      <td>0.2430</td>\n",
              "      <td>0.3613</td>\n",
              "      <td>0.08758</td>\n",
              "    </tr>\n",
              "    <tr>\n",
              "      <th>2</th>\n",
              "      <td>84348301</td>\n",
              "      <td>M</td>\n",
              "      <td>11.42</td>\n",
              "      <td>20.38</td>\n",
              "      <td>77.58</td>\n",
              "      <td>386.1</td>\n",
              "      <td>0.14250</td>\n",
              "      <td>0.28390</td>\n",
              "      <td>0.24140</td>\n",
              "      <td>0.10520</td>\n",
              "      <td>...</td>\n",
              "      <td>14.910</td>\n",
              "      <td>26.50</td>\n",
              "      <td>98.87</td>\n",
              "      <td>567.7</td>\n",
              "      <td>0.20980</td>\n",
              "      <td>0.86630</td>\n",
              "      <td>0.6869</td>\n",
              "      <td>0.2575</td>\n",
              "      <td>0.6638</td>\n",
              "      <td>0.17300</td>\n",
              "    </tr>\n",
              "    <tr>\n",
              "      <th>3</th>\n",
              "      <td>84358402</td>\n",
              "      <td>M</td>\n",
              "      <td>20.29</td>\n",
              "      <td>14.34</td>\n",
              "      <td>135.10</td>\n",
              "      <td>1297.0</td>\n",
              "      <td>0.10030</td>\n",
              "      <td>0.13280</td>\n",
              "      <td>0.19800</td>\n",
              "      <td>0.10430</td>\n",
              "      <td>...</td>\n",
              "      <td>22.540</td>\n",
              "      <td>16.67</td>\n",
              "      <td>152.20</td>\n",
              "      <td>1575.0</td>\n",
              "      <td>0.13740</td>\n",
              "      <td>0.20500</td>\n",
              "      <td>0.4000</td>\n",
              "      <td>0.1625</td>\n",
              "      <td>0.2364</td>\n",
              "      <td>0.07678</td>\n",
              "    </tr>\n",
              "    <tr>\n",
              "      <th>4</th>\n",
              "      <td>843786</td>\n",
              "      <td>M</td>\n",
              "      <td>12.45</td>\n",
              "      <td>15.70</td>\n",
              "      <td>82.57</td>\n",
              "      <td>477.1</td>\n",
              "      <td>0.12780</td>\n",
              "      <td>0.17000</td>\n",
              "      <td>0.15780</td>\n",
              "      <td>0.08089</td>\n",
              "      <td>...</td>\n",
              "      <td>15.470</td>\n",
              "      <td>23.75</td>\n",
              "      <td>103.40</td>\n",
              "      <td>741.6</td>\n",
              "      <td>0.17910</td>\n",
              "      <td>0.52490</td>\n",
              "      <td>0.5355</td>\n",
              "      <td>0.1741</td>\n",
              "      <td>0.3985</td>\n",
              "      <td>0.12440</td>\n",
              "    </tr>\n",
              "    <tr>\n",
              "      <th>...</th>\n",
              "      <td>...</td>\n",
              "      <td>...</td>\n",
              "      <td>...</td>\n",
              "      <td>...</td>\n",
              "      <td>...</td>\n",
              "      <td>...</td>\n",
              "      <td>...</td>\n",
              "      <td>...</td>\n",
              "      <td>...</td>\n",
              "      <td>...</td>\n",
              "      <td>...</td>\n",
              "      <td>...</td>\n",
              "      <td>...</td>\n",
              "      <td>...</td>\n",
              "      <td>...</td>\n",
              "      <td>...</td>\n",
              "      <td>...</td>\n",
              "      <td>...</td>\n",
              "      <td>...</td>\n",
              "      <td>...</td>\n",
              "      <td>...</td>\n",
              "    </tr>\n",
              "    <tr>\n",
              "      <th>563</th>\n",
              "      <td>926424</td>\n",
              "      <td>M</td>\n",
              "      <td>21.56</td>\n",
              "      <td>22.39</td>\n",
              "      <td>142.00</td>\n",
              "      <td>1479.0</td>\n",
              "      <td>0.11100</td>\n",
              "      <td>0.11590</td>\n",
              "      <td>0.24390</td>\n",
              "      <td>0.13890</td>\n",
              "      <td>...</td>\n",
              "      <td>25.450</td>\n",
              "      <td>26.40</td>\n",
              "      <td>166.10</td>\n",
              "      <td>2027.0</td>\n",
              "      <td>0.14100</td>\n",
              "      <td>0.21130</td>\n",
              "      <td>0.4107</td>\n",
              "      <td>0.2216</td>\n",
              "      <td>0.2060</td>\n",
              "      <td>0.07115</td>\n",
              "    </tr>\n",
              "    <tr>\n",
              "      <th>564</th>\n",
              "      <td>926682</td>\n",
              "      <td>M</td>\n",
              "      <td>20.13</td>\n",
              "      <td>28.25</td>\n",
              "      <td>131.20</td>\n",
              "      <td>1261.0</td>\n",
              "      <td>0.09780</td>\n",
              "      <td>0.10340</td>\n",
              "      <td>0.14400</td>\n",
              "      <td>0.09791</td>\n",
              "      <td>...</td>\n",
              "      <td>23.690</td>\n",
              "      <td>38.25</td>\n",
              "      <td>155.00</td>\n",
              "      <td>1731.0</td>\n",
              "      <td>0.11660</td>\n",
              "      <td>0.19220</td>\n",
              "      <td>0.3215</td>\n",
              "      <td>0.1628</td>\n",
              "      <td>0.2572</td>\n",
              "      <td>0.06637</td>\n",
              "    </tr>\n",
              "    <tr>\n",
              "      <th>565</th>\n",
              "      <td>926954</td>\n",
              "      <td>M</td>\n",
              "      <td>16.60</td>\n",
              "      <td>28.08</td>\n",
              "      <td>108.30</td>\n",
              "      <td>858.1</td>\n",
              "      <td>0.08455</td>\n",
              "      <td>0.10230</td>\n",
              "      <td>0.09251</td>\n",
              "      <td>0.05302</td>\n",
              "      <td>...</td>\n",
              "      <td>18.980</td>\n",
              "      <td>34.12</td>\n",
              "      <td>126.70</td>\n",
              "      <td>1124.0</td>\n",
              "      <td>0.11390</td>\n",
              "      <td>0.30940</td>\n",
              "      <td>0.3403</td>\n",
              "      <td>0.1418</td>\n",
              "      <td>0.2218</td>\n",
              "      <td>0.07820</td>\n",
              "    </tr>\n",
              "    <tr>\n",
              "      <th>566</th>\n",
              "      <td>927241</td>\n",
              "      <td>M</td>\n",
              "      <td>20.60</td>\n",
              "      <td>29.33</td>\n",
              "      <td>140.10</td>\n",
              "      <td>1265.0</td>\n",
              "      <td>0.11780</td>\n",
              "      <td>0.27700</td>\n",
              "      <td>0.35140</td>\n",
              "      <td>0.15200</td>\n",
              "      <td>...</td>\n",
              "      <td>25.740</td>\n",
              "      <td>39.42</td>\n",
              "      <td>184.60</td>\n",
              "      <td>1821.0</td>\n",
              "      <td>0.16500</td>\n",
              "      <td>0.86810</td>\n",
              "      <td>0.9387</td>\n",
              "      <td>0.2650</td>\n",
              "      <td>0.4087</td>\n",
              "      <td>0.12400</td>\n",
              "    </tr>\n",
              "    <tr>\n",
              "      <th>567</th>\n",
              "      <td>92751</td>\n",
              "      <td>B</td>\n",
              "      <td>7.76</td>\n",
              "      <td>24.54</td>\n",
              "      <td>47.92</td>\n",
              "      <td>181.0</td>\n",
              "      <td>0.05263</td>\n",
              "      <td>0.04362</td>\n",
              "      <td>0.00000</td>\n",
              "      <td>0.00000</td>\n",
              "      <td>...</td>\n",
              "      <td>9.456</td>\n",
              "      <td>30.37</td>\n",
              "      <td>59.16</td>\n",
              "      <td>268.6</td>\n",
              "      <td>0.08996</td>\n",
              "      <td>0.06444</td>\n",
              "      <td>0.0000</td>\n",
              "      <td>0.0000</td>\n",
              "      <td>0.2871</td>\n",
              "      <td>0.07039</td>\n",
              "    </tr>\n",
              "  </tbody>\n",
              "</table>\n",
              "<p>568 rows × 32 columns</p>\n",
              "</div>\n",
              "      <button class=\"colab-df-convert\" onclick=\"convertToInteractive('df-8cf13a2b-4acf-44ee-b954-70737954a936')\"\n",
              "              title=\"Convert this dataframe to an interactive table.\"\n",
              "              style=\"display:none;\">\n",
              "        \n",
              "  <svg xmlns=\"http://www.w3.org/2000/svg\" height=\"24px\"viewBox=\"0 0 24 24\"\n",
              "       width=\"24px\">\n",
              "    <path d=\"M0 0h24v24H0V0z\" fill=\"none\"/>\n",
              "    <path d=\"M18.56 5.44l.94 2.06.94-2.06 2.06-.94-2.06-.94-.94-2.06-.94 2.06-2.06.94zm-11 1L8.5 8.5l.94-2.06 2.06-.94-2.06-.94L8.5 2.5l-.94 2.06-2.06.94zm10 10l.94 2.06.94-2.06 2.06-.94-2.06-.94-.94-2.06-.94 2.06-2.06.94z\"/><path d=\"M17.41 7.96l-1.37-1.37c-.4-.4-.92-.59-1.43-.59-.52 0-1.04.2-1.43.59L10.3 9.45l-7.72 7.72c-.78.78-.78 2.05 0 2.83L4 21.41c.39.39.9.59 1.41.59.51 0 1.02-.2 1.41-.59l7.78-7.78 2.81-2.81c.8-.78.8-2.07 0-2.86zM5.41 20L4 18.59l7.72-7.72 1.47 1.35L5.41 20z\"/>\n",
              "  </svg>\n",
              "      </button>\n",
              "      \n",
              "  <style>\n",
              "    .colab-df-container {\n",
              "      display:flex;\n",
              "      flex-wrap:wrap;\n",
              "      gap: 12px;\n",
              "    }\n",
              "\n",
              "    .colab-df-convert {\n",
              "      background-color: #E8F0FE;\n",
              "      border: none;\n",
              "      border-radius: 50%;\n",
              "      cursor: pointer;\n",
              "      display: none;\n",
              "      fill: #1967D2;\n",
              "      height: 32px;\n",
              "      padding: 0 0 0 0;\n",
              "      width: 32px;\n",
              "    }\n",
              "\n",
              "    .colab-df-convert:hover {\n",
              "      background-color: #E2EBFA;\n",
              "      box-shadow: 0px 1px 2px rgba(60, 64, 67, 0.3), 0px 1px 3px 1px rgba(60, 64, 67, 0.15);\n",
              "      fill: #174EA6;\n",
              "    }\n",
              "\n",
              "    [theme=dark] .colab-df-convert {\n",
              "      background-color: #3B4455;\n",
              "      fill: #D2E3FC;\n",
              "    }\n",
              "\n",
              "    [theme=dark] .colab-df-convert:hover {\n",
              "      background-color: #434B5C;\n",
              "      box-shadow: 0px 1px 3px 1px rgba(0, 0, 0, 0.15);\n",
              "      filter: drop-shadow(0px 1px 2px rgba(0, 0, 0, 0.3));\n",
              "      fill: #FFFFFF;\n",
              "    }\n",
              "  </style>\n",
              "\n",
              "      <script>\n",
              "        const buttonEl =\n",
              "          document.querySelector('#df-8cf13a2b-4acf-44ee-b954-70737954a936 button.colab-df-convert');\n",
              "        buttonEl.style.display =\n",
              "          google.colab.kernel.accessAllowed ? 'block' : 'none';\n",
              "\n",
              "        async function convertToInteractive(key) {\n",
              "          const element = document.querySelector('#df-8cf13a2b-4acf-44ee-b954-70737954a936');\n",
              "          const dataTable =\n",
              "            await google.colab.kernel.invokeFunction('convertToInteractive',\n",
              "                                                     [key], {});\n",
              "          if (!dataTable) return;\n",
              "\n",
              "          const docLinkHtml = 'Like what you see? Visit the ' +\n",
              "            '<a target=\"_blank\" href=https://colab.research.google.com/notebooks/data_table.ipynb>data table notebook</a>'\n",
              "            + ' to learn more about interactive tables.';\n",
              "          element.innerHTML = '';\n",
              "          dataTable['output_type'] = 'display_data';\n",
              "          await google.colab.output.renderOutput(dataTable, element);\n",
              "          const docLink = document.createElement('div');\n",
              "          docLink.innerHTML = docLinkHtml;\n",
              "          element.appendChild(docLink);\n",
              "        }\n",
              "      </script>\n",
              "    </div>\n",
              "  </div>\n",
              "  "
            ]
          },
          "metadata": {},
          "execution_count": 2
        }
      ]
    },
    {
      "cell_type": "markdown",
      "source": [
        "## Eliminar columna 'c1' debido a que no representa información necesaria y modificación de los datos en la columna 'c2' \n",
        "\n",
        "*   M = Maligno (M -> 1)\n",
        "*   B = Benigno (B -> 0)"
      ],
      "metadata": {
        "id": "CmhSCijDBMRr"
      }
    },
    {
      "cell_type": "code",
      "source": [
        "data['resultado'] = data['resultado'].replace('M',1)\n",
        "data['resultado'] = data['resultado'].replace('B',0)\n",
        "data = data.drop(['id'],axis=1)\n",
        "data"
      ],
      "metadata": {
        "colab": {
          "base_uri": "https://localhost:8080/",
          "height": 424
        },
        "id": "cZiZToZ_BYJ6",
        "outputId": "6359a703-0750-4aa7-fc20-e673ecfa9659"
      },
      "execution_count": 3,
      "outputs": [
        {
          "output_type": "execute_result",
          "data": {
            "text/plain": [
              "     resultado     c1     c2      c3      c4       c5       c6       c7  \\\n",
              "0            1  20.57  17.77  132.90  1326.0  0.08474  0.07864  0.08690   \n",
              "1            1  19.69  21.25  130.00  1203.0  0.10960  0.15990  0.19740   \n",
              "2            1  11.42  20.38   77.58   386.1  0.14250  0.28390  0.24140   \n",
              "3            1  20.29  14.34  135.10  1297.0  0.10030  0.13280  0.19800   \n",
              "4            1  12.45  15.70   82.57   477.1  0.12780  0.17000  0.15780   \n",
              "..         ...    ...    ...     ...     ...      ...      ...      ...   \n",
              "563          1  21.56  22.39  142.00  1479.0  0.11100  0.11590  0.24390   \n",
              "564          1  20.13  28.25  131.20  1261.0  0.09780  0.10340  0.14400   \n",
              "565          1  16.60  28.08  108.30   858.1  0.08455  0.10230  0.09251   \n",
              "566          1  20.60  29.33  140.10  1265.0  0.11780  0.27700  0.35140   \n",
              "567          0   7.76  24.54   47.92   181.0  0.05263  0.04362  0.00000   \n",
              "\n",
              "          c8      c9  ...     c21    c22     c23     c24      c25      c26  \\\n",
              "0    0.07017  0.1812  ...  24.990  23.41  158.80  1956.0  0.12380  0.18660   \n",
              "1    0.12790  0.2069  ...  23.570  25.53  152.50  1709.0  0.14440  0.42450   \n",
              "2    0.10520  0.2597  ...  14.910  26.50   98.87   567.7  0.20980  0.86630   \n",
              "3    0.10430  0.1809  ...  22.540  16.67  152.20  1575.0  0.13740  0.20500   \n",
              "4    0.08089  0.2087  ...  15.470  23.75  103.40   741.6  0.17910  0.52490   \n",
              "..       ...     ...  ...     ...    ...     ...     ...      ...      ...   \n",
              "563  0.13890  0.1726  ...  25.450  26.40  166.10  2027.0  0.14100  0.21130   \n",
              "564  0.09791  0.1752  ...  23.690  38.25  155.00  1731.0  0.11660  0.19220   \n",
              "565  0.05302  0.1590  ...  18.980  34.12  126.70  1124.0  0.11390  0.30940   \n",
              "566  0.15200  0.2397  ...  25.740  39.42  184.60  1821.0  0.16500  0.86810   \n",
              "567  0.00000  0.1587  ...   9.456  30.37   59.16   268.6  0.08996  0.06444   \n",
              "\n",
              "        c27     c28     c29      c30  \n",
              "0    0.2416  0.1860  0.2750  0.08902  \n",
              "1    0.4504  0.2430  0.3613  0.08758  \n",
              "2    0.6869  0.2575  0.6638  0.17300  \n",
              "3    0.4000  0.1625  0.2364  0.07678  \n",
              "4    0.5355  0.1741  0.3985  0.12440  \n",
              "..      ...     ...     ...      ...  \n",
              "563  0.4107  0.2216  0.2060  0.07115  \n",
              "564  0.3215  0.1628  0.2572  0.06637  \n",
              "565  0.3403  0.1418  0.2218  0.07820  \n",
              "566  0.9387  0.2650  0.4087  0.12400  \n",
              "567  0.0000  0.0000  0.2871  0.07039  \n",
              "\n",
              "[568 rows x 31 columns]"
            ],
            "text/html": [
              "\n",
              "  <div id=\"df-b6683198-4d52-4444-b5e2-56d59ea922ad\">\n",
              "    <div class=\"colab-df-container\">\n",
              "      <div>\n",
              "<style scoped>\n",
              "    .dataframe tbody tr th:only-of-type {\n",
              "        vertical-align: middle;\n",
              "    }\n",
              "\n",
              "    .dataframe tbody tr th {\n",
              "        vertical-align: top;\n",
              "    }\n",
              "\n",
              "    .dataframe thead th {\n",
              "        text-align: right;\n",
              "    }\n",
              "</style>\n",
              "<table border=\"1\" class=\"dataframe\">\n",
              "  <thead>\n",
              "    <tr style=\"text-align: right;\">\n",
              "      <th></th>\n",
              "      <th>resultado</th>\n",
              "      <th>c1</th>\n",
              "      <th>c2</th>\n",
              "      <th>c3</th>\n",
              "      <th>c4</th>\n",
              "      <th>c5</th>\n",
              "      <th>c6</th>\n",
              "      <th>c7</th>\n",
              "      <th>c8</th>\n",
              "      <th>c9</th>\n",
              "      <th>...</th>\n",
              "      <th>c21</th>\n",
              "      <th>c22</th>\n",
              "      <th>c23</th>\n",
              "      <th>c24</th>\n",
              "      <th>c25</th>\n",
              "      <th>c26</th>\n",
              "      <th>c27</th>\n",
              "      <th>c28</th>\n",
              "      <th>c29</th>\n",
              "      <th>c30</th>\n",
              "    </tr>\n",
              "  </thead>\n",
              "  <tbody>\n",
              "    <tr>\n",
              "      <th>0</th>\n",
              "      <td>1</td>\n",
              "      <td>20.57</td>\n",
              "      <td>17.77</td>\n",
              "      <td>132.90</td>\n",
              "      <td>1326.0</td>\n",
              "      <td>0.08474</td>\n",
              "      <td>0.07864</td>\n",
              "      <td>0.08690</td>\n",
              "      <td>0.07017</td>\n",
              "      <td>0.1812</td>\n",
              "      <td>...</td>\n",
              "      <td>24.990</td>\n",
              "      <td>23.41</td>\n",
              "      <td>158.80</td>\n",
              "      <td>1956.0</td>\n",
              "      <td>0.12380</td>\n",
              "      <td>0.18660</td>\n",
              "      <td>0.2416</td>\n",
              "      <td>0.1860</td>\n",
              "      <td>0.2750</td>\n",
              "      <td>0.08902</td>\n",
              "    </tr>\n",
              "    <tr>\n",
              "      <th>1</th>\n",
              "      <td>1</td>\n",
              "      <td>19.69</td>\n",
              "      <td>21.25</td>\n",
              "      <td>130.00</td>\n",
              "      <td>1203.0</td>\n",
              "      <td>0.10960</td>\n",
              "      <td>0.15990</td>\n",
              "      <td>0.19740</td>\n",
              "      <td>0.12790</td>\n",
              "      <td>0.2069</td>\n",
              "      <td>...</td>\n",
              "      <td>23.570</td>\n",
              "      <td>25.53</td>\n",
              "      <td>152.50</td>\n",
              "      <td>1709.0</td>\n",
              "      <td>0.14440</td>\n",
              "      <td>0.42450</td>\n",
              "      <td>0.4504</td>\n",
              "      <td>0.2430</td>\n",
              "      <td>0.3613</td>\n",
              "      <td>0.08758</td>\n",
              "    </tr>\n",
              "    <tr>\n",
              "      <th>2</th>\n",
              "      <td>1</td>\n",
              "      <td>11.42</td>\n",
              "      <td>20.38</td>\n",
              "      <td>77.58</td>\n",
              "      <td>386.1</td>\n",
              "      <td>0.14250</td>\n",
              "      <td>0.28390</td>\n",
              "      <td>0.24140</td>\n",
              "      <td>0.10520</td>\n",
              "      <td>0.2597</td>\n",
              "      <td>...</td>\n",
              "      <td>14.910</td>\n",
              "      <td>26.50</td>\n",
              "      <td>98.87</td>\n",
              "      <td>567.7</td>\n",
              "      <td>0.20980</td>\n",
              "      <td>0.86630</td>\n",
              "      <td>0.6869</td>\n",
              "      <td>0.2575</td>\n",
              "      <td>0.6638</td>\n",
              "      <td>0.17300</td>\n",
              "    </tr>\n",
              "    <tr>\n",
              "      <th>3</th>\n",
              "      <td>1</td>\n",
              "      <td>20.29</td>\n",
              "      <td>14.34</td>\n",
              "      <td>135.10</td>\n",
              "      <td>1297.0</td>\n",
              "      <td>0.10030</td>\n",
              "      <td>0.13280</td>\n",
              "      <td>0.19800</td>\n",
              "      <td>0.10430</td>\n",
              "      <td>0.1809</td>\n",
              "      <td>...</td>\n",
              "      <td>22.540</td>\n",
              "      <td>16.67</td>\n",
              "      <td>152.20</td>\n",
              "      <td>1575.0</td>\n",
              "      <td>0.13740</td>\n",
              "      <td>0.20500</td>\n",
              "      <td>0.4000</td>\n",
              "      <td>0.1625</td>\n",
              "      <td>0.2364</td>\n",
              "      <td>0.07678</td>\n",
              "    </tr>\n",
              "    <tr>\n",
              "      <th>4</th>\n",
              "      <td>1</td>\n",
              "      <td>12.45</td>\n",
              "      <td>15.70</td>\n",
              "      <td>82.57</td>\n",
              "      <td>477.1</td>\n",
              "      <td>0.12780</td>\n",
              "      <td>0.17000</td>\n",
              "      <td>0.15780</td>\n",
              "      <td>0.08089</td>\n",
              "      <td>0.2087</td>\n",
              "      <td>...</td>\n",
              "      <td>15.470</td>\n",
              "      <td>23.75</td>\n",
              "      <td>103.40</td>\n",
              "      <td>741.6</td>\n",
              "      <td>0.17910</td>\n",
              "      <td>0.52490</td>\n",
              "      <td>0.5355</td>\n",
              "      <td>0.1741</td>\n",
              "      <td>0.3985</td>\n",
              "      <td>0.12440</td>\n",
              "    </tr>\n",
              "    <tr>\n",
              "      <th>...</th>\n",
              "      <td>...</td>\n",
              "      <td>...</td>\n",
              "      <td>...</td>\n",
              "      <td>...</td>\n",
              "      <td>...</td>\n",
              "      <td>...</td>\n",
              "      <td>...</td>\n",
              "      <td>...</td>\n",
              "      <td>...</td>\n",
              "      <td>...</td>\n",
              "      <td>...</td>\n",
              "      <td>...</td>\n",
              "      <td>...</td>\n",
              "      <td>...</td>\n",
              "      <td>...</td>\n",
              "      <td>...</td>\n",
              "      <td>...</td>\n",
              "      <td>...</td>\n",
              "      <td>...</td>\n",
              "      <td>...</td>\n",
              "      <td>...</td>\n",
              "    </tr>\n",
              "    <tr>\n",
              "      <th>563</th>\n",
              "      <td>1</td>\n",
              "      <td>21.56</td>\n",
              "      <td>22.39</td>\n",
              "      <td>142.00</td>\n",
              "      <td>1479.0</td>\n",
              "      <td>0.11100</td>\n",
              "      <td>0.11590</td>\n",
              "      <td>0.24390</td>\n",
              "      <td>0.13890</td>\n",
              "      <td>0.1726</td>\n",
              "      <td>...</td>\n",
              "      <td>25.450</td>\n",
              "      <td>26.40</td>\n",
              "      <td>166.10</td>\n",
              "      <td>2027.0</td>\n",
              "      <td>0.14100</td>\n",
              "      <td>0.21130</td>\n",
              "      <td>0.4107</td>\n",
              "      <td>0.2216</td>\n",
              "      <td>0.2060</td>\n",
              "      <td>0.07115</td>\n",
              "    </tr>\n",
              "    <tr>\n",
              "      <th>564</th>\n",
              "      <td>1</td>\n",
              "      <td>20.13</td>\n",
              "      <td>28.25</td>\n",
              "      <td>131.20</td>\n",
              "      <td>1261.0</td>\n",
              "      <td>0.09780</td>\n",
              "      <td>0.10340</td>\n",
              "      <td>0.14400</td>\n",
              "      <td>0.09791</td>\n",
              "      <td>0.1752</td>\n",
              "      <td>...</td>\n",
              "      <td>23.690</td>\n",
              "      <td>38.25</td>\n",
              "      <td>155.00</td>\n",
              "      <td>1731.0</td>\n",
              "      <td>0.11660</td>\n",
              "      <td>0.19220</td>\n",
              "      <td>0.3215</td>\n",
              "      <td>0.1628</td>\n",
              "      <td>0.2572</td>\n",
              "      <td>0.06637</td>\n",
              "    </tr>\n",
              "    <tr>\n",
              "      <th>565</th>\n",
              "      <td>1</td>\n",
              "      <td>16.60</td>\n",
              "      <td>28.08</td>\n",
              "      <td>108.30</td>\n",
              "      <td>858.1</td>\n",
              "      <td>0.08455</td>\n",
              "      <td>0.10230</td>\n",
              "      <td>0.09251</td>\n",
              "      <td>0.05302</td>\n",
              "      <td>0.1590</td>\n",
              "      <td>...</td>\n",
              "      <td>18.980</td>\n",
              "      <td>34.12</td>\n",
              "      <td>126.70</td>\n",
              "      <td>1124.0</td>\n",
              "      <td>0.11390</td>\n",
              "      <td>0.30940</td>\n",
              "      <td>0.3403</td>\n",
              "      <td>0.1418</td>\n",
              "      <td>0.2218</td>\n",
              "      <td>0.07820</td>\n",
              "    </tr>\n",
              "    <tr>\n",
              "      <th>566</th>\n",
              "      <td>1</td>\n",
              "      <td>20.60</td>\n",
              "      <td>29.33</td>\n",
              "      <td>140.10</td>\n",
              "      <td>1265.0</td>\n",
              "      <td>0.11780</td>\n",
              "      <td>0.27700</td>\n",
              "      <td>0.35140</td>\n",
              "      <td>0.15200</td>\n",
              "      <td>0.2397</td>\n",
              "      <td>...</td>\n",
              "      <td>25.740</td>\n",
              "      <td>39.42</td>\n",
              "      <td>184.60</td>\n",
              "      <td>1821.0</td>\n",
              "      <td>0.16500</td>\n",
              "      <td>0.86810</td>\n",
              "      <td>0.9387</td>\n",
              "      <td>0.2650</td>\n",
              "      <td>0.4087</td>\n",
              "      <td>0.12400</td>\n",
              "    </tr>\n",
              "    <tr>\n",
              "      <th>567</th>\n",
              "      <td>0</td>\n",
              "      <td>7.76</td>\n",
              "      <td>24.54</td>\n",
              "      <td>47.92</td>\n",
              "      <td>181.0</td>\n",
              "      <td>0.05263</td>\n",
              "      <td>0.04362</td>\n",
              "      <td>0.00000</td>\n",
              "      <td>0.00000</td>\n",
              "      <td>0.1587</td>\n",
              "      <td>...</td>\n",
              "      <td>9.456</td>\n",
              "      <td>30.37</td>\n",
              "      <td>59.16</td>\n",
              "      <td>268.6</td>\n",
              "      <td>0.08996</td>\n",
              "      <td>0.06444</td>\n",
              "      <td>0.0000</td>\n",
              "      <td>0.0000</td>\n",
              "      <td>0.2871</td>\n",
              "      <td>0.07039</td>\n",
              "    </tr>\n",
              "  </tbody>\n",
              "</table>\n",
              "<p>568 rows × 31 columns</p>\n",
              "</div>\n",
              "      <button class=\"colab-df-convert\" onclick=\"convertToInteractive('df-b6683198-4d52-4444-b5e2-56d59ea922ad')\"\n",
              "              title=\"Convert this dataframe to an interactive table.\"\n",
              "              style=\"display:none;\">\n",
              "        \n",
              "  <svg xmlns=\"http://www.w3.org/2000/svg\" height=\"24px\"viewBox=\"0 0 24 24\"\n",
              "       width=\"24px\">\n",
              "    <path d=\"M0 0h24v24H0V0z\" fill=\"none\"/>\n",
              "    <path d=\"M18.56 5.44l.94 2.06.94-2.06 2.06-.94-2.06-.94-.94-2.06-.94 2.06-2.06.94zm-11 1L8.5 8.5l.94-2.06 2.06-.94-2.06-.94L8.5 2.5l-.94 2.06-2.06.94zm10 10l.94 2.06.94-2.06 2.06-.94-2.06-.94-.94-2.06-.94 2.06-2.06.94z\"/><path d=\"M17.41 7.96l-1.37-1.37c-.4-.4-.92-.59-1.43-.59-.52 0-1.04.2-1.43.59L10.3 9.45l-7.72 7.72c-.78.78-.78 2.05 0 2.83L4 21.41c.39.39.9.59 1.41.59.51 0 1.02-.2 1.41-.59l7.78-7.78 2.81-2.81c.8-.78.8-2.07 0-2.86zM5.41 20L4 18.59l7.72-7.72 1.47 1.35L5.41 20z\"/>\n",
              "  </svg>\n",
              "      </button>\n",
              "      \n",
              "  <style>\n",
              "    .colab-df-container {\n",
              "      display:flex;\n",
              "      flex-wrap:wrap;\n",
              "      gap: 12px;\n",
              "    }\n",
              "\n",
              "    .colab-df-convert {\n",
              "      background-color: #E8F0FE;\n",
              "      border: none;\n",
              "      border-radius: 50%;\n",
              "      cursor: pointer;\n",
              "      display: none;\n",
              "      fill: #1967D2;\n",
              "      height: 32px;\n",
              "      padding: 0 0 0 0;\n",
              "      width: 32px;\n",
              "    }\n",
              "\n",
              "    .colab-df-convert:hover {\n",
              "      background-color: #E2EBFA;\n",
              "      box-shadow: 0px 1px 2px rgba(60, 64, 67, 0.3), 0px 1px 3px 1px rgba(60, 64, 67, 0.15);\n",
              "      fill: #174EA6;\n",
              "    }\n",
              "\n",
              "    [theme=dark] .colab-df-convert {\n",
              "      background-color: #3B4455;\n",
              "      fill: #D2E3FC;\n",
              "    }\n",
              "\n",
              "    [theme=dark] .colab-df-convert:hover {\n",
              "      background-color: #434B5C;\n",
              "      box-shadow: 0px 1px 3px 1px rgba(0, 0, 0, 0.15);\n",
              "      filter: drop-shadow(0px 1px 2px rgba(0, 0, 0, 0.3));\n",
              "      fill: #FFFFFF;\n",
              "    }\n",
              "  </style>\n",
              "\n",
              "      <script>\n",
              "        const buttonEl =\n",
              "          document.querySelector('#df-b6683198-4d52-4444-b5e2-56d59ea922ad button.colab-df-convert');\n",
              "        buttonEl.style.display =\n",
              "          google.colab.kernel.accessAllowed ? 'block' : 'none';\n",
              "\n",
              "        async function convertToInteractive(key) {\n",
              "          const element = document.querySelector('#df-b6683198-4d52-4444-b5e2-56d59ea922ad');\n",
              "          const dataTable =\n",
              "            await google.colab.kernel.invokeFunction('convertToInteractive',\n",
              "                                                     [key], {});\n",
              "          if (!dataTable) return;\n",
              "\n",
              "          const docLinkHtml = 'Like what you see? Visit the ' +\n",
              "            '<a target=\"_blank\" href=https://colab.research.google.com/notebooks/data_table.ipynb>data table notebook</a>'\n",
              "            + ' to learn more about interactive tables.';\n",
              "          element.innerHTML = '';\n",
              "          dataTable['output_type'] = 'display_data';\n",
              "          await google.colab.output.renderOutput(dataTable, element);\n",
              "          const docLink = document.createElement('div');\n",
              "          docLink.innerHTML = docLinkHtml;\n",
              "          element.appendChild(docLink);\n",
              "        }\n",
              "      </script>\n",
              "    </div>\n",
              "  </div>\n",
              "  "
            ]
          },
          "metadata": {},
          "execution_count": 3
        }
      ]
    },
    {
      "cell_type": "markdown",
      "source": [
        "# 1. Se debe visualizar relaciones entre variables usando los métodos vistos en clase"
      ],
      "metadata": {
        "id": "jl10SiOSCL4s"
      }
    },
    {
      "cell_type": "markdown",
      "source": [
        "## Matriz de correlación"
      ],
      "metadata": {
        "id": "tFhXw88XCulj"
      }
    },
    {
      "cell_type": "code",
      "source": [
        "corr = data.corr()\n",
        "\n",
        "fig = plt.figure(figsize=(8,8))\n",
        "plt.matshow(corr,cmap = 'RdBu' ,fignum=fig.number)\n",
        "plt.xticks(range(len(corr.columns)),corr.columns,rotation='vertical');\n",
        "plt.yticks(range(len(corr.columns)),corr.columns);"
      ],
      "metadata": {
        "colab": {
          "base_uri": "https://localhost:8080/",
          "height": 535
        },
        "id": "jxh1teYGCRsD",
        "outputId": "f63fdb23-2b1a-489b-df8b-56e1f60f77ef"
      },
      "execution_count": 4,
      "outputs": [
        {
          "output_type": "display_data",
          "data": {
            "text/plain": [
              "<Figure size 576x576 with 1 Axes>"
            ],
            "image/png": "[encoded data removed]"
          },
          "metadata": {
            "needs_background": "light"
          }
        }
      ]
    },
    {
      "cell_type": "markdown",
      "source": [
        "## Correlación de las columnas con la columna 'resultado' en orden descendiente para identificar las columnas con mayor correlación"
      ],
      "metadata": {
        "id": "XfojUvAFPX2m"
      }
    },
    {
      "cell_type": "code",
      "source": [
        "corr_matrix = data.corr()\n",
        "corr_values = corr_matrix['resultado'].sort_values(ascending=False)\n",
        "print(corr_values)"
      ],
      "metadata": {
        "colab": {
          "base_uri": "https://localhost:8080/"
        },
        "id": "it-Hr8zbLi8v",
        "outputId": "5a2aa90c-07ee-439d-eff0-d8aa61b7a2ad"
      },
      "execution_count": 5,
      "outputs": [
        {
          "output_type": "stream",
          "name": "stdout",
          "text": [
            "resultado    1.000000\n",
            "c28          0.793181\n",
            "c23          0.782470\n",
            "c8           0.776369\n",
            "c21          0.775725\n",
            "c3           0.741887\n",
            "c24          0.732925\n",
            "c1           0.729376\n",
            "c4           0.708389\n",
            "c7           0.695648\n",
            "c27          0.658348\n",
            "c6           0.595587\n",
            "c26          0.589453\n",
            "c11          0.565373\n",
            "c13          0.554416\n",
            "c14          0.546343\n",
            "c22          0.461443\n",
            "c2           0.422146\n",
            "c25          0.419731\n",
            "c29          0.413382\n",
            "c18          0.407293\n",
            "c5           0.356276\n",
            "c9           0.327336\n",
            "c30          0.320983\n",
            "c16          0.290866\n",
            "c17          0.252567\n",
            "c20          0.076068\n",
            "c12         -0.007024\n",
            "c19         -0.009170\n",
            "c10         -0.018099\n",
            "c15         -0.066629\n",
            "Name: resultado, dtype: float64\n"
          ]
        }
      ]
    },
    {
      "cell_type": "markdown",
      "source": [
        "## Diagrama de dispersión con respecto a la columna 'c2' la cuál contiene la información de si es benigno o maligno"
      ],
      "metadata": {
        "id": "WqYPH_CpCwvT"
      }
    },
    {
      "cell_type": "code",
      "source": [
        "for i in columnas[2:]:\n",
        "  data.plot(kind='scatter',x =columnas[1],y=i,figsize=(6,6))"
      ],
      "metadata": {
        "id": "_xjc6Z-aDFnD",
        "colab": {
          "base_uri": "https://localhost:8080/"
        },
        "outputId": "e7b6284b-2a22-4df8-ecaf-74dad3bebb1e"
      },
      "execution_count": null,
      "outputs": [
        {
          "output_type": "stream",
          "name": "stderr",
          "text": [
            "/usr/local/lib/python3.9/dist-packages/pandas/plotting/_matplotlib/core.py:1114: UserWarning: No data for colormapping provided via 'c'. Parameters 'cmap' will be ignored\n",
            "  scatter = ax.scatter(\n"
          ]
        }
      ]
    },
    {
      "cell_type": "markdown",
      "source": [
        "# 2. Encontrar valores atípicos o faltantes entre las columnas de los registros.En caso de que existan, cuantificarlos (contarlos) para conocer el número total de ellos"
      ],
      "metadata": {
        "id": "0Urr_tL4EHPr"
      }
    },
    {
      "cell_type": "markdown",
      "source": [
        "## Identificación de atípicos por medio de gráficas"
      ],
      "metadata": {
        "id": "IM8sOantHMRk"
      }
    },
    {
      "cell_type": "code",
      "source": [
        "boxplots_cols = columnas[2:17]\n",
        "data[boxplots_cols].plot(kind='box',subplots=True,layout=(3,5),figsize=(14,8))"
      ],
      "metadata": {
        "id": "RcSNLdSiEQ1z"
      },
      "execution_count": null,
      "outputs": []
    },
    {
      "cell_type": "code",
      "source": [
        "boxplots_cols = columnas[17:]\n",
        "data[boxplots_cols].plot(kind='box',subplots=True,layout=(3,5),figsize=(14,8))"
      ],
      "metadata": {
        "id": "RRCcQxzMG6yz"
      },
      "execution_count": null,
      "outputs": []
    },
    {
      "cell_type": "markdown",
      "source": [
        "## Cuantificación de atípicos totales"
      ],
      "metadata": {
        "id": "s5ijyrzcHLaM"
      }
    },
    {
      "cell_type": "code",
      "source": [
        "atpT=0\n",
        "for i in columnas[2:]:\n",
        "  Q1 = data[i].quantile(0.25)\n",
        "  Q3 = data[i].quantile(0.75)\n",
        "  IQR = Q3 - Q1\n",
        "  u_limit_h = Q3 + 1.55 * IQR\n",
        "  l_limit_h = Q1 - 1.55 * IQR\n",
        "  '''\n",
        "  data.apply() permite ejecutar una función lambda con el código que deseemos\n",
        "  En este caso se usó para ubicar los valores atípicos sobre el limite superior \n",
        "  e inferiores al límite inferior, luego se aplica el .sum() para cuantificar la\n",
        "  cantidad de datos encontrados\n",
        "  '''\n",
        "  atpU = data.apply(lambda x: x[i] > u_limit_h,axis=1).sum() #Límite superior\n",
        "  atpL = data.apply(lambda x: x[i] < l_limit_h,axis=1).sum() #Límite inferior\n",
        "  atpC = atpU + atpL # Cantidad de atípicos por columna\n",
        "  atpT += atpU + atpL # Cantidad de atípicos total\n",
        "  print('Columna:',i,'Cantidad Atípicos:',atpC)\n",
        "\n",
        "print('Existen',atpT,'datos atípicos en total')"
      ],
      "metadata": {
        "id": "S-uFyhPrHb4U"
      },
      "execution_count": null,
      "outputs": []
    },
    {
      "cell_type": "markdown",
      "source": [
        "# 3. Encontrar los índices de los atípicos(si existen) y cuantificar cuántos registros contienen estos tipos de datos.NOTA:es diferente encontrar el número total vs el número de registros.Por ejemplo:Únicamente la fila 7 tiene un atípico en la columna 7,10 y 15.Del anterior ejemplo podemos afirmar que un registro contiene 3 datos atípicos y para solucionar dicho problema el proceso que debemos seguir es eliminar dicho registro."
      ],
      "metadata": {
        "id": "maOfpIGuEWea"
      }
    },
    {
      "cell_type": "markdown",
      "source": [
        "## Índices de los atípicos"
      ],
      "metadata": {
        "id": "0UAEnNu3Q2Ul"
      }
    },
    {
      "cell_type": "code",
      "source": [
        "df = pd.DataFrame()\n",
        "for i in columnas[2:]:\n",
        "  Q1 = data[i].quantile(0.25)\n",
        "  Q3 = data[i].quantile(0.75)\n",
        "  IQR = Q3 - Q1\n",
        "  u_limit_h = Q3 + 1.55 * IQR\n",
        "  l_limit_h = Q1 - 1.55 * IQR\n",
        "  upper = np.where(data[i]>u_limit_h) # Atípicos ubicados encima del límite superior\n",
        "  lower = np.where(data[i]<l_limit_h) # Atípicos ubicados debajo del límite inferior\n",
        "  atp = upper + lower\n",
        "  df[i]=atp\n",
        "  \n",
        "'''\n",
        "Los índices en la fila 0 representan los índices de los atípicos ubicados encima del límite superior\n",
        "Los índices en la fila 1 representan los índices de los atípicos ubicados debajo del límite inferior\n",
        "'''\n",
        "df"
      ],
      "metadata": {
        "id": "EIw4z3XqnduJ"
      },
      "execution_count": null,
      "outputs": []
    },
    {
      "cell_type": "markdown",
      "source": [
        "## Cuantificación de cuántos registros tienen atípicos"
      ],
      "metadata": {
        "id": "H36daEN7oBOZ"
      }
    },
    {
      "cell_type": "code",
      "source": [
        "df_registrosatp = pd.DataFrame()\n",
        "for i in columnas[2:]:\n",
        "  Q1 = data[i].quantile(0.25)\n",
        "  Q3 = data[i].quantile(0.75)\n",
        "  IQR = Q3 - Q1\n",
        "  u_limit_h = Q3 + 1.55 * IQR\n",
        "  l_limit_h = Q1 - 1.55 * IQR\n",
        "  atp = (data[i] < l_limit_h) | (data[i] > u_limit_h) # Registro con dato atípico\n",
        "  df_registrosatp = pd.concat([df_registrosatp,data[atp]],ignore_index=True) # Se guarda el registro\n",
        "  \n",
        "df_registrosatp=df_registrosatp.drop_duplicates() # Se eliminan registros repetidos\n",
        "print('Existen',df_registrosatp.shape[0],'registros con datos atípicos')"
      ],
      "metadata": {
        "id": "6tHOEFU0oGnA"
      },
      "execution_count": null,
      "outputs": []
    },
    {
      "cell_type": "markdown",
      "source": [
        "# 4. En caso que la cantidad de registros que se eliminarían supera el 40% del total del conjunto de datos, se procederá a eliminar únicamente el 20% de forma aleatoria de los atípicos"
      ],
      "metadata": {
        "id": "w6DUibK7Ezmc"
      }
    },
    {
      "cell_type": "code",
      "source": [
        "resultado = data.shape[0] * 0.4\n",
        "porcentaje = df_registrosatp.shape[0] / data.shape[0] * 100\n",
        "print('La cantidad de registros equivalente al 40% es:',resultado,'y la cantidad de registros con datos atípicos es:',df_registrosatp.shape[0],'representando el',porcentaje,'%')"
      ],
      "metadata": {
        "id": "zyNtYYuBxO4i"
      },
      "execution_count": null,
      "outputs": []
    },
    {
      "cell_type": "markdown",
      "source": [
        "## Con base en lo anterior, se pueden eliminar los registros con datos atípicos"
      ],
      "metadata": {
        "id": "A5o-J38KyqSr"
      }
    },
    {
      "cell_type": "code",
      "source": [
        "print('El nuevo dataframe deberá tener ',data.shape[0]-df_registrosatp.shape[0],' registros')\n",
        "new_data = data\n",
        "for i in columnas[2:]:\n",
        "  Q1 = data[i].quantile(0.25)\n",
        "  Q3 = data[i].quantile(0.75)\n",
        "  IQR = Q3 - Q1\n",
        "  u_limit_h = Q3 + 1.55 * IQR\n",
        "  l_limit_h = Q1 - 1.55 * IQR\n",
        "  atp = new_data[(new_data[i] < l_limit_h) | (new_data[i] > u_limit_h)].index\n",
        "  new_data = new_data.drop(atp) # Nuevo data set sin los datos atípicos\n",
        "\n",
        "print('La cantidad de registros en el nuevo dataframe es:',new_data.shape[0])\n",
        "new_data"
      ],
      "metadata": {
        "id": "iTKvtgrFy8BN"
      },
      "execution_count": null,
      "outputs": []
    },
    {
      "cell_type": "markdown",
      "source": [
        "# 5. El modelo debe ser validado por una validación cruzada con K=10. Dicho proceso debe ser programado de manera manual, es decir NO SE PERMITE LAS LIBRERÍAS EXTERNAS. NOTA: DEBEN GARANTIZAR LA HOMOGENEIDAD DE  LOS DATOS AL MOMENTO DE ENTRENAR EL MODELO."
      ],
      "metadata": {
        "id": "rdHPtuRNFBOU"
      }
    },
    {
      "cell_type": "markdown",
      "source": [
        "## Separamos los registros según la variable objetivo (Benigno y Maligno)"
      ],
      "metadata": {
        "id": "r-jZUMylSYCe"
      }
    },
    {
      "cell_type": "markdown",
      "source": [
        "### Cantidad de registros benignos y malignos"
      ],
      "metadata": {
        "id": "nT0uCxfdAvg0"
      }
    },
    {
      "cell_type": "code",
      "source": [
        "new_data['resultado'].value_counts()"
      ],
      "metadata": {
        "id": "rgP3xN1VSDEO"
      },
      "execution_count": null,
      "outputs": []
    },
    {
      "cell_type": "markdown",
      "source": [
        "### Guardamos los registros con variable objetivo benigno y maligno en 'data_benigno' y 'data_maligno' respectivamente"
      ],
      "metadata": {
        "id": "n5n1F4iPSdj1"
      }
    },
    {
      "cell_type": "code",
      "source": [
        "grupos = new_data.groupby('resultado')\n",
        "data_benigno=grupos.get_group(0)\n",
        "data_maligno=grupos.get_group(1)\n",
        "print(data_benigno.shape[0])\n",
        "print(data_maligno.shape[0])"
      ],
      "metadata": {
        "id": "jDZVAo1tAvK8"
      },
      "execution_count": null,
      "outputs": []
    },
    {
      "cell_type": "markdown",
      "source": [
        "### Calculamos la cantidad de registros que van a haber en cada k grupo"
      ],
      "metadata": {
        "id": "DC6bzf4vS1zN"
      }
    },
    {
      "cell_type": "code",
      "source": [
        "print('Van a haber',new_data.shape[0]/10,'registros por grupo')"
      ],
      "metadata": {
        "id": "FdMb9deHQCsF"
      },
      "execution_count": null,
      "outputs": []
    },
    {
      "cell_type": "markdown",
      "source": [
        "## Creación de un dataframe con registros benignos y malignos garantizando homogeneidad"
      ],
      "metadata": {
        "id": "hyGcYWNOP_eO"
      }
    },
    {
      "cell_type": "code",
      "source": [
        "data_cruzada = pd.DataFrame(columns = data.columns)\n",
        "# iterar 39 veces, de 0 a 38 agregando 32 malignos y 8 benignos\n",
        "for i in range(0, 39):\n",
        "    data_cruzada = data_cruzada.append(data_benigno[i*8:i*8+8],ignore_index=True)\n",
        "    data_cruzada = data_cruzada.append(data_maligno[i*2:i*2+2],ignore_index=True)\n",
        "\n",
        "# tomar los registros faltantes y agregarlos\n",
        "data_cruzada = data_cruzada.append(data_benigno[312:])\n",
        "data_cruzada = data_cruzada.append(data_maligno[78:])\n",
        "data_cruzada"
      ],
      "metadata": {
        "id": "NYMKPe7siSvU"
      },
      "execution_count": null,
      "outputs": []
    },
    {
      "cell_type": "markdown",
      "source": [
        "# 6. Se debe imprimir la matriz de confusión por cada validación del numeral anterior."
      ],
      "metadata": {
        "id": "OPUGtIm6FRCU"
      }
    },
    {
      "cell_type": "code",
      "source": [
        "def confusion_matrix(y_true, y_pred):\n",
        "  tp = [0,0]\n",
        "  fn = [0,0]\n",
        "  tn = [0,0]\n",
        "  fp = [0,0]\n",
        "  sensibilidad = 0\n",
        "  especificidad = 0\n",
        "  precision = 0\n",
        "  for i in range(len(y_true)):\n",
        "      if y_true[i] == 0 and y_pred[i] == 0: # Verdadero negativo\n",
        "          tp[0]+=1\n",
        "          tn[1]+=1\n",
        "      elif y_true[i] == 0 and y_pred[i] == 1: # Falso positivo\n",
        "          fp[0]+=1\n",
        "          fn[1]+=1\n",
        "      elif y_true[i] == 1 and y_pred[i] == 0: # Falso negativo\n",
        "          fp[1]+=1\n",
        "          fn[0]+=1\n",
        "      elif y_true[i] == 1 and y_pred[i] == 1: # Verdadero positivo\n",
        "          tp[1]+=1\n",
        "          tn[0]+=1\n",
        "\n",
        "  sensibilidad = tp[1]/(tp[1]+fn[1])\n",
        "  especificidad = tn[1]/(tn[1]+fp[1])\n",
        "  precision = tp[1]/(tp[1]+fp[1])\n",
        "\n",
        "  confusion = pd.DataFrame({\n",
        "    \"Resultado\":[\"Benigno\",\"Maligno\"],\n",
        "    \"TP\": tp,\n",
        "    \"FN\":fn,\n",
        "    \"TN\":tn,\n",
        "    \"FP\":fp\n",
        "  })\n",
        "  return confusion,sensibilidad,especificidad,precision\n"
      ],
      "metadata": {
        "id": "3jsMjZCXn9R8"
      },
      "execution_count": null,
      "outputs": []
    },
    {
      "cell_type": "markdown",
      "source": [
        "# 7. El desempeño de este modelo debe ser encontrado al calcular las métricas de sensibilidad, especificidad y precisión."
      ],
      "metadata": {
        "id": "UCxQ3afpFXGE"
      }
    },
    {
      "cell_type": "markdown",
      "source": [
        "## Creación modelo 0"
      ],
      "metadata": {
        "id": "xE2is65I3FwD"
      }
    },
    {
      "cell_type": "code",
      "source": [
        "espe0 = 0\n",
        "sen0 = 0\n",
        "\n",
        "for i in range(0,len(new_data),40):\n",
        "  data_test = data_cruzada.iloc[i:i+40]\n",
        "  data_train =  pd.concat([data_cruzada.iloc[:i],data_cruzada.iloc[i+40:]])\n",
        "  x_train = data_train.iloc[:,[8,21,23,28]].values\n",
        "  x_test = data_train.iloc[:,[8,21,23,28]].values\n",
        "\n",
        "  y_train = data_train.iloc[:, 0].values.astype('int')\n",
        "  y_test = data_test.iloc[:, 0].values.astype('int')\n",
        "\n",
        "  modelo = KNeighborsClassifier(n_neighbors=5)\n",
        "  modelo.fit(x_train,y_train)\n",
        "  y_pred = modelo.predict(x_test)\n",
        "  matriz,s,e,p = confusion_matrix(y_test,y_pred)\n",
        "  print(matriz)\n",
        "  print('Sensibilidad:',s)\n",
        "  print('Especificidad:',e)\n",
        "  print('Precision:',p)\n",
        "  espe0 += e\n",
        "  sen0 += s\n",
        "\n",
        "#Promedio de la especificidad y la sensibilidad\n",
        "espe0 = 1 - (espe0/10)\n",
        "sen0 = sen0/10"
      ],
      "metadata": {
        "id": "OyK89JMOjAK8"
      },
      "execution_count": null,
      "outputs": []
    },
    {
      "cell_type": "markdown",
      "source": [
        "# 8. Deben desarrollar al menos 4 modelos diferentes en busca del mejor desempeño posible (Se debe evidenciar la numerosas pruebas realizadas) y decidir en base de una curva ROC cual de ellos es mejor"
      ],
      "metadata": {
        "id": "NhpLrcvOFe60"
      }
    },
    {
      "cell_type": "markdown",
      "source": [
        "## Para la creación de cada modelo se usaron las características que superan el 70% de correlación"
      ],
      "metadata": {
        "id": "ijQngz0poH4P"
      }
    },
    {
      "cell_type": "markdown",
      "source": [
        "## Modelo 1"
      ],
      "metadata": {
        "id": "iAxp3q0JBn0R"
      }
    },
    {
      "cell_type": "code",
      "source": [
        "espe1 = 0\n",
        "sen1 = 0\n",
        "for i in range(0,len(new_data),40):\n",
        "  caracteristicas= [1,3,8,21,23,24,28]\n",
        "  data_test = data_cruzada.iloc[i:i+40]\n",
        "  data_train =  pd.concat([data_cruzada.iloc[:i],data_cruzada.iloc[i+40:]])\n",
        "  x_train = data_train.iloc[:,caracteristicas].values\n",
        "  x_test = data_train.iloc[:,caracteristicas].values\n",
        "\n",
        "  y_train = data_train.iloc[:, 0].values.astype('int')\n",
        "  y_test = data_test.iloc[:, 0].values.astype('int')\n",
        "\n",
        "  modelo = KNeighborsClassifier(n_neighbors=5)\n",
        "  modelo.fit(x_train,y_train)\n",
        "  y_pred = modelo.predict(x_test)\n",
        "  matriz,s,e,p = confusion_matrix(y_test,y_pred)\n",
        "  espe1 += e\n",
        "  sen1 += s\n",
        "\n",
        "espe1 = 1 - (espe1/10)\n",
        "sen1 = sen1/10"
      ],
      "metadata": {
        "id": "_NKqtNS2Bm3R"
      },
      "execution_count": null,
      "outputs": []
    },
    {
      "cell_type": "markdown",
      "source": [
        "## Modelo 2"
      ],
      "metadata": {
        "id": "FUQAC3aYBqAB"
      }
    },
    {
      "cell_type": "code",
      "source": [
        "espe2 = 0\n",
        "sen2 = 0\n",
        "for i in range(0,len(new_data),40):\n",
        "  caracteristicas= [1,3,8,21]\n",
        "  data_test = data_cruzada.iloc[i:i+40]\n",
        "  data_train =  pd.concat([data_cruzada.iloc[:i],data_cruzada.iloc[i+40:]])\n",
        "  x_train = data_train.iloc[:,caracteristicas].values\n",
        "  x_test = data_train.iloc[:,caracteristicas].values\n",
        "\n",
        "  y_train = data_train.iloc[:, 0].values.astype('int')\n",
        "  y_test = data_test.iloc[:, 0].values.astype('int')\n",
        "\n",
        "  modelo = KNeighborsClassifier(n_neighbors=5)\n",
        "  modelo.fit(x_train,y_train)\n",
        "  y_pred = modelo.predict(x_test)\n",
        "  matriz,s,e,p = confusion_matrix(y_test,y_pred)\n",
        "  espe2 += e\n",
        "  sen2 += s\n",
        "\n",
        "espe2 = 1 - (espe2/10)\n",
        "sen2 = sen2/10"
      ],
      "metadata": {
        "id": "Planld1HBunx"
      },
      "execution_count": null,
      "outputs": []
    },
    {
      "cell_type": "markdown",
      "source": [
        "## Modelo 3"
      ],
      "metadata": {
        "id": "BzbvKbhFBrpp"
      }
    },
    {
      "cell_type": "code",
      "source": [
        "espe3 = 0\n",
        "sen3 = 0\n",
        "for i in range(0,len(new_data),40):\n",
        "  caracteristicas= [21,23,24,28]\n",
        "  data_test = data_cruzada.iloc[i:i+40]\n",
        "  data_train =  pd.concat([data_cruzada.iloc[:i],data_cruzada.iloc[i+40:]])\n",
        "  x_train = data_train.iloc[:,caracteristicas].values\n",
        "  x_test = data_train.iloc[:,caracteristicas].values\n",
        "\n",
        "  y_train = data_train.iloc[:, 0].values.astype('int')\n",
        "  y_test = data_test.iloc[:, 0].values.astype('int')\n",
        "\n",
        "  modelo = KNeighborsClassifier(n_neighbors=5)\n",
        "  modelo.fit(x_train,y_train)\n",
        "  y_pred = modelo.predict(x_test)\n",
        "  matriz,s,e,p = confusion_matrix(y_test,y_pred)\n",
        "  espe3 += e\n",
        "  sen3 += s\n",
        "\n",
        "espe3 = 1 - (espe3/10)\n",
        "sen3 = sen3/10"
      ],
      "metadata": {
        "id": "3jYL3pIWBvTZ"
      },
      "execution_count": null,
      "outputs": []
    },
    {
      "cell_type": "markdown",
      "source": [
        "## Modelo 4"
      ],
      "metadata": {
        "id": "4vUpXXrNBs8Z"
      }
    },
    {
      "cell_type": "code",
      "source": [
        "espe4 = 0\n",
        "sen4 = 0\n",
        "\n",
        "for i in range(0,len(new_data),40):\n",
        "  caracteristicas= [8,21,23]\n",
        "  data_test = data_cruzada.iloc[i:i+40]\n",
        "  data_train =  pd.concat([data_cruzada.iloc[:i],data_cruzada.iloc[i+40:]])\n",
        "  x_train = data_train.iloc[:,caracteristicas].values\n",
        "  x_test = data_train.iloc[:,caracteristicas].values\n",
        "\n",
        "  y_train = data_train.iloc[:, 0].values.astype('int')\n",
        "  y_test = data_test.iloc[:, 0].values.astype('int')\n",
        "\n",
        "  modelo = KNeighborsClassifier(n_neighbors=5)\n",
        "  modelo.fit(x_train,y_train)\n",
        "  y_pred = modelo.predict(x_test)\n",
        "  matriz,s,e,p = confusion_matrix(y_test,y_pred)\n",
        "  espe4 += e\n",
        "  sen4 += s\n",
        "\n",
        "espe4 = 1 - (espe4/10)\n",
        "sen4 = sen4/10"
      ],
      "metadata": {
        "id": "O1qEvs2iBwQp"
      },
      "execution_count": null,
      "outputs": []
    },
    {
      "cell_type": "markdown",
      "source": [
        "## Curva ROC"
      ],
      "metadata": {
        "id": "Z26ynQ8GQYLL"
      }
    },
    {
      "cell_type": "code",
      "source": [
        "roc_x = [espe0,espe1,espe2,espe3,espe4]\n",
        "roc_y = [sen0,sen1,sen2,sen3,sen4]\n",
        "nombres = ['M0','M1','M2','M3','M4']\n",
        "colores = ['blue','red', 'green', 'grey', 'yellow']\n",
        "\n",
        "plt.scatter(roc_x, roc_y,c=colores)\n",
        "\n",
        "for i, nombre in enumerate(nombres):\n",
        "    plt.annotate(nombre, (roc_x[i], roc_y[i]))\n",
        "\n",
        "plt.title('Gráfica de los 5 modelos')\n",
        "plt.xlabel('1 - Especificidad')\n",
        "plt.ylabel('Sensibilidad')\n",
        "\n",
        "plt.show()"
      ],
      "metadata": {
        "id": "C6ESnZ3OQa0k"
      },
      "execution_count": null,
      "outputs": []
    },
    {
      "cell_type": "markdown",
      "source": [
        "### Mejor modelo KNN"
      ],
      "metadata": {
        "id": "vNSyiVDE4rB8"
      }
    },
    {
      "cell_type": "code",
      "source": [
        "# calcular la distancia de cada punto a la esquina superior izquierda donde tendrá la mejor especificidad y sensibilidad\n",
        "distancias = []\n",
        "for p in range(0,len(nombres)):\n",
        "    distancia = math.sqrt((0 - roc_x[p])**2 + (1 - roc_y[p])**2)\n",
        "    distancias.append(distancia)\n",
        "\n",
        "# obtener el índice del punto más cercano\n",
        "indice = distancias.index(min(distancias))\n",
        "\n",
        "# obtener el punto más cercano\n",
        "punto_mas_cercano = nombres[indice]\n",
        "\n",
        "print(\"El mejor modelo es:\", punto_mas_cercano)\n",
        "print(distancias)"
      ],
      "metadata": {
        "id": "8MHuxYM-0ORi"
      },
      "execution_count": null,
      "outputs": []
    },
    {
      "cell_type": "markdown",
      "source": [
        "### Mejor modelo regresión logística"
      ],
      "metadata": {
        "id": "dnJthdu4Oj_8"
      }
    },
    {
      "cell_type": "code",
      "source": [
        "loge = 0\n",
        "logs = 0\n",
        "\n",
        "for i in range(0,len(new_data),40):\n",
        "  data_test = data_cruzada.iloc[i:i+40]\n",
        "  data_train =  pd.concat([data_cruzada.iloc[:i],data_cruzada.iloc[i+40:]])\n",
        "  x_train = data_train.iloc[:,[8,21,23,28]].values\n",
        "  x_test = data_train.iloc[:,[8,21,23,28]].values\n",
        "\n",
        "  y_train = data_train.iloc[:, 0].values.astype('int')\n",
        "  y_test = data_test.iloc[:, 0].values.astype('int')\n",
        "\n",
        "  modelo = LogisticRegression()\n",
        "  modelo.fit(x_train,y_train)\n",
        "  y_pred = modelo.predict(x_test)\n",
        "  matriz,s,e,p = confusion_matrix(y_test,y_pred)\n",
        "  print(matriz)\n",
        "  print('Sensibilidad:',s)\n",
        "  print('Especificidad:',e)\n",
        "  print('Precision:',p)\n",
        "  loge += e\n",
        "  logs += s\n",
        "\n",
        "#Promedio de la especificidad y la sensibilidad\n",
        "loge = 1 - (loge/10)\n",
        "logs = logs/10"
      ],
      "metadata": {
        "id": "EjQpE70eOmtk"
      },
      "execution_count": null,
      "outputs": []
    },
    {
      "cell_type": "markdown",
      "source": [
        "# Fusión Modelos KNN y regresión logística"
      ],
      "metadata": {
        "id": "TCH4deN0PSES"
      }
    },
    {
      "cell_type": "code",
      "source": [
        "caracteristicas = new_data[columnas[2:]]\n",
        "x_train,x_test,y_train,y_test = train_test_split(caracteristicas,new_data['resultado'], train_size= 0.5)\n",
        "\n",
        "modelo_knn = KNeighborsClassifier(n_neighbors=5)\n",
        "modelo_knn.fit(x_train[['c21','c23','c24','c28']],y_train)\n",
        "y_pred_knn = modelo_knn.predict(x_test[['c21','c23','c24','c28']])\n",
        "\n",
        "modelo_log = LogisticRegression()\n",
        "modelo_log.fit(x_train[['c8','c21','c23','c28']],y_train)\n",
        "y_pred_log = modelo_log.predict(x_test[['c8','c21','c23','c28']])\n",
        "\n",
        "y_test = np.array(y_test)"
      ],
      "metadata": {
        "id": "ahUsiDuoP0el"
      },
      "execution_count": null,
      "outputs": []
    },
    {
      "cell_type": "markdown",
      "source": [
        "## AND"
      ],
      "metadata": {
        "id": "um2leGw5PWdJ"
      }
    },
    {
      "cell_type": "code",
      "source": [
        "fus_and=[]\n",
        "for i in range(0,len(y_pred_knn)):\n",
        "  if ((y_pred_knn[i] == 1) & (y_pred_log[i] == 1)):\n",
        "    fus_and.append(1)\n",
        "  else:\n",
        "    fus_and.append(0)\n",
        "\n",
        "matriz,s,e,p = confusion_matrix(y_test,fus_and)\n",
        "print(matriz)\n",
        "print('Sensibilidad:',s)\n",
        "print('Especificidad:',e)\n",
        "print('Precision:',p)"
      ],
      "metadata": {
        "id": "628_Q4J1PY2K"
      },
      "execution_count": null,
      "outputs": []
    },
    {
      "cell_type": "markdown",
      "source": [
        "## OR"
      ],
      "metadata": {
        "id": "b2bFmga4PXph"
      }
    },
    {
      "cell_type": "code",
      "source": [
        "fus_or=[]\n",
        "for i in range(0,len(y_pred_knn)):\n",
        "  if ((y_pred_knn[i] == 1) | (y_pred_log[i] == 1)):\n",
        "    fus_or.append(1)\n",
        "  else:\n",
        "    fus_or.append(0)\n",
        "\n",
        "matriz,s,e,p = confusion_matrix(y_test,fus_or)\n",
        "print(matriz)\n",
        "print('Sensibilidad:',s)\n",
        "print('Especificidad:',e)\n",
        "print('Precision:',p)"
      ],
      "metadata": {
        "id": "HRQcKrf5bwYX"
      },
      "execution_count": null,
      "outputs": []
    }
  ]
}