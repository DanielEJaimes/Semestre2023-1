{
  "nbformat": 4,
  "nbformat_minor": 0,
  "metadata": {
    "colab": {
      "provenance": []
    },
    "kernelspec": {
      "name": "python3",
      "display_name": "Python 3"
    },
    "language_info": {
      "name": "python"
    }
  },
  "cells": [
    {
      "cell_type": "code",
      "execution_count": 1,
      "metadata": {
        "id": "Pvy_oam0LpM-"
      },
      "outputs": [],
      "source": [
        "# Importamos numpy y matplotlib\n",
        "import numpy as np\n",
        "import matplotlib.pyplot as plt\n",
        "\n",
        "# Importamos lo necesario para crear la red\n",
        "from tensorflow import keras\n",
        "from keras.datasets import mnist\n",
        "from keras.models import Sequential\n",
        "from keras.layers import Dense, Dropout, Flatten\n",
        "from keras.layers import Conv2D, MaxPooling2D\n",
        "from keras import backend\n",
        "\n",
        "# Importamos unos paquetes de sklearn para comprobar el modelo\n",
        "from sklearn.metrics import classification_report, confusion_matrix"
      ]
    },
    {
      "cell_type": "code",
      "source": [
        "(xtrain, ytrain), (xtest, ytest) = mnist.load_data()"
      ],
      "metadata": {
        "id": "745NPKRkMAej",
        "colab": {
          "base_uri": "https://localhost:8080/"
        },
        "outputId": "aac88771-e3f2-40ca-d8e0-edb428fb1f38"
      },
      "execution_count": 2,
      "outputs": [
        {
          "output_type": "stream",
          "name": "stdout",
          "text": [
            "Downloading data from https://storage.googleapis.com/tensorflow/tf-keras-datasets/mnist.npz\n",
            "11490434/11490434 [==============================] - 0s 0us/step\n"
          ]
        }
      ]
    },
    {
      "cell_type": "code",
      "source": [
        "sample = np.random.randint(0,60000)\n",
        "plt.imshow(xtrain[sample], cmap=plt.cm.gray)\n",
        "plt.title('Label: ' + str(ytrain[sample]))"
      ],
      "metadata": {
        "colab": {
          "base_uri": "https://localhost:8080/",
          "height": 469
        },
        "id": "OVZjoDn2MA69",
        "outputId": "973636b9-5def-4742-e52f-8414b947fdf4"
      },
      "execution_count": 3,
      "outputs": [
        {
          "output_type": "execute_result",
          "data": {
            "text/plain": [
              "Text(0.5, 1.0, 'Label: 4')"
            ]
          },
          "metadata": {},
          "execution_count": 3
        },
        {
          "output_type": "display_data",
          "data": {
            "text/plain": [
              "<Figure size 640x480 with 1 Axes>"
            ],
            "image/png": "[encoded data removed]"
          },
          "metadata": {}
        }
      ]
    },
    {
      "cell_type": "code",
      "source": [
        "xtrain = xtrain.astype('float32')/255\n",
        "xtest = xtest.astype('float32')/255\n",
        "\n",
        "if backend.image_data_format() == 'channels_first':\n",
        "    xtrain = xtrain.reshape(xtrain.shape[0], 1, 28, 28)\n",
        "    xtest = xtest.reshape(xtest.shape[0], 1, 28, 28)\n",
        "    input_shape = (1, 28, 28)\n",
        "else:\n",
        "    xtrain = xtrain.reshape(xtrain.shape[0], 28, 28, 1)\n",
        "    xtest = xtest.reshape(xtest.shape[0], 28, 28, 1)\n",
        "    input_shape = (28, 28, 1)\n",
        "\n",
        "print(xtrain.shape)\n",
        "print(input_shape)"
      ],
      "metadata": {
        "colab": {
          "base_uri": "https://localhost:8080/"
        },
        "id": "aNnTRBmYML1t",
        "outputId": "bb3a845c-4428-4288-bcf5-ae84f4652029"
      },
      "execution_count": 4,
      "outputs": [
        {
          "output_type": "stream",
          "name": "stdout",
          "text": [
            "(60000, 28, 28, 1)\n",
            "(28, 28, 1)\n"
          ]
        }
      ]
    },
    {
      "cell_type": "code",
      "source": [
        "ytrain = keras.utils.to_categorical(ytrain, 10)\n",
        "print(ytrain)"
      ],
      "metadata": {
        "colab": {
          "base_uri": "https://localhost:8080/"
        },
        "id": "8OTSUxSgMN4z",
        "outputId": "62025943-db75-42ff-a427-70529b99f518"
      },
      "execution_count": 5,
      "outputs": [
        {
          "output_type": "stream",
          "name": "stdout",
          "text": [
            "[[0. 0. 0. ... 0. 0. 0.]\n",
            " [1. 0. 0. ... 0. 0. 0.]\n",
            " [0. 0. 0. ... 0. 0. 0.]\n",
            " ...\n",
            " [0. 0. 0. ... 0. 0. 0.]\n",
            " [0. 0. 0. ... 0. 0. 0.]\n",
            " [0. 0. 0. ... 0. 1. 0.]]\n"
          ]
        }
      ]
    },
    {
      "cell_type": "code",
      "source": [
        "def build_model():\n",
        "  model = Sequential()\n",
        "\n",
        "  model.add(Conv2D(3,kernel_size=(3,3),\n",
        "                   activation='relu',\n",
        "                   input_shape=input_shape))\n",
        "  model.add(MaxPooling2D(pool_size=(2,2)))\n",
        "  model.add(Dropout(0.25))\n",
        "\n",
        "  model.add(Conv2D(30, kernel_size=(3,3), activation='relu'))\n",
        "  model.add(MaxPooling2D(pool_size=(2,2)))\n",
        "  model.add(Dropout(0.25))\n",
        "\n",
        "  model.add(Conv2D(60, kernel_size=(3,3), activation='relu'))\n",
        "  model.add(MaxPooling2D(pool_size=(2,2)))\n",
        "  model.add(Dropout(0.25))\n",
        "\n",
        "  model.add(Flatten())\n",
        "  model.add(Dense(5, activation='relu'))\n",
        "  model.add(Dropout(0.5))\n",
        "  model.add(Dense(10, activation='softmax'))\n",
        "\n",
        "  model.compile(loss = keras.losses.categorical_crossentropy,\n",
        "                optimizer = 'adam',\n",
        "                metrics=['accuracy'])\n",
        "  return model"
      ],
      "metadata": {
        "id": "Ftxeds88MQVL"
      },
      "execution_count": 11,
      "outputs": []
    },
    {
      "cell_type": "code",
      "source": [
        "model = build_model()\n",
        "model.summary()"
      ],
      "metadata": {
        "colab": {
          "base_uri": "https://localhost:8080/"
        },
        "id": "r6R6YiolM0IC",
        "outputId": "93e593e0-169d-4ed7-8826-e12a667b6ad4"
      },
      "execution_count": 12,
      "outputs": [
        {
          "output_type": "stream",
          "name": "stdout",
          "text": [
            "Model: \"sequential_1\"\n",
            "_________________________________________________________________\n",
            " Layer (type)                Output Shape              Param #   \n",
            "=================================================================\n",
            " conv2d_3 (Conv2D)           (None, 26, 26, 3)         30        \n",
            "                                                                 \n",
            " max_pooling2d_3 (MaxPooling  (None, 13, 13, 3)        0         \n",
            " 2D)                                                             \n",
            "                                                                 \n",
            " dropout_4 (Dropout)         (None, 13, 13, 3)         0         \n",
            "                                                                 \n",
            " conv2d_4 (Conv2D)           (None, 11, 11, 30)        840       \n",
            "                                                                 \n",
            " max_pooling2d_4 (MaxPooling  (None, 5, 5, 30)         0         \n",
            " 2D)                                                             \n",
            "                                                                 \n",
            " dropout_5 (Dropout)         (None, 5, 5, 30)          0         \n",
            "                                                                 \n",
            " conv2d_5 (Conv2D)           (None, 3, 3, 60)          16260     \n",
            "                                                                 \n",
            " max_pooling2d_5 (MaxPooling  (None, 1, 1, 60)         0         \n",
            " 2D)                                                             \n",
            "                                                                 \n",
            " dropout_6 (Dropout)         (None, 1, 1, 60)          0         \n",
            "                                                                 \n",
            " flatten_1 (Flatten)         (None, 60)                0         \n",
            "                                                                 \n",
            " dense_2 (Dense)             (None, 5)                 305       \n",
            "                                                                 \n",
            " dropout_7 (Dropout)         (None, 5)                 0         \n",
            "                                                                 \n",
            " dense_3 (Dense)             (None, 10)                60        \n",
            "                                                                 \n",
            "=================================================================\n",
            "Total params: 17,495\n",
            "Trainable params: 17,495\n",
            "Non-trainable params: 0\n",
            "_________________________________________________________________\n"
          ]
        }
      ]
    },
    {
      "cell_type": "code",
      "source": [
        "model.fit(xtrain, ytrain, batch_size=1000, epochs=12, verbose=1,\n",
        "          validation_split=0.17)"
      ],
      "metadata": {
        "colab": {
          "base_uri": "https://localhost:8080/"
        },
        "id": "ucq4QbGzND21",
        "outputId": "b78d2611-c98e-4558-acf0-637780963193"
      },
      "execution_count": 13,
      "outputs": [
        {
          "output_type": "stream",
          "name": "stdout",
          "text": [
            "Epoch 1/12\n",
            "50/50 [==============================] - 20s 356ms/step - loss: 2.2766 - accuracy: 0.1264 - val_loss: 2.1853 - val_accuracy: 0.1922\n",
            "Epoch 2/12\n",
            "50/50 [==============================] - 17s 331ms/step - loss: 2.1229 - accuracy: 0.1884 - val_loss: 1.9467 - val_accuracy: 0.2975\n",
            "Epoch 3/12\n",
            "50/50 [==============================] - 17s 333ms/step - loss: 2.0093 - accuracy: 0.2360 - val_loss: 1.8202 - val_accuracy: 0.3575\n",
            "Epoch 4/12\n",
            "50/50 [==============================] - 18s 350ms/step - loss: 1.9081 - accuracy: 0.2506 - val_loss: 1.5916 - val_accuracy: 0.3898\n",
            "Epoch 5/12\n",
            "50/50 [==============================] - 16s 325ms/step - loss: 1.8185 - accuracy: 0.2670 - val_loss: 1.4873 - val_accuracy: 0.4779\n",
            "Epoch 6/12\n",
            "50/50 [==============================] - 17s 332ms/step - loss: 1.7762 - accuracy: 0.2835 - val_loss: 1.4407 - val_accuracy: 0.5652\n",
            "Epoch 7/12\n",
            "50/50 [==============================] - 18s 368ms/step - loss: 1.7422 - accuracy: 0.3016 - val_loss: 1.3674 - val_accuracy: 0.6490\n",
            "Epoch 8/12\n",
            "50/50 [==============================] - 17s 323ms/step - loss: 1.7148 - accuracy: 0.3279 - val_loss: 1.2989 - val_accuracy: 0.6990\n",
            "Epoch 9/12\n",
            "50/50 [==============================] - 16s 322ms/step - loss: 1.6851 - accuracy: 0.3429 - val_loss: 1.2234 - val_accuracy: 0.7115\n",
            "Epoch 10/12\n",
            "50/50 [==============================] - 16s 325ms/step - loss: 1.6545 - accuracy: 0.3499 - val_loss: 1.1654 - val_accuracy: 0.7391\n",
            "Epoch 11/12\n",
            "50/50 [==============================] - 17s 343ms/step - loss: 1.6363 - accuracy: 0.3562 - val_loss: 1.1335 - val_accuracy: 0.7541\n",
            "Epoch 12/12\n",
            "50/50 [==============================] - 16s 328ms/step - loss: 1.6174 - accuracy: 0.3603 - val_loss: 1.0847 - val_accuracy: 0.7973\n"
          ]
        },
        {
          "output_type": "execute_result",
          "data": {
            "text/plain": [
              "<keras.callbacks.History at 0x7fd2b20b56c0>"
            ]
          },
          "metadata": {},
          "execution_count": 13
        }
      ]
    },
    {
      "cell_type": "code",
      "source": [
        "ypred=model.predict(xtest)\n",
        "print('Salida de la red:\\n', ypred[0])\n",
        "\n",
        "ypred = np.argmax(ypred, axis=1)\n",
        "print('Predicciones:\\n', ypred)\n",
        "\n",
        "print('Reporte de clasificación:\\n', classification_report(ytest, ypred))\n",
        "print('Matriz de confusión:\\n', confusion_matrix(ytest, ypred))"
      ],
      "metadata": {
        "id": "mzvuCYtsN8IN",
        "colab": {
          "base_uri": "https://localhost:8080/"
        },
        "outputId": "1d738ccc-d686-4ea2-ef16-3a786304d631"
      },
      "execution_count": 14,
      "outputs": [
        {
          "output_type": "stream",
          "name": "stdout",
          "text": [
            "313/313 [==============================] - 2s 6ms/step\n",
            "Salida de la red:\n",
            " [3.3143103e-02 2.5576761e-02 2.9590204e-01 2.3338015e-01 7.0366818e-06\n",
            " 2.1884359e-04 3.0398480e-05 4.0786120e-01 3.1102479e-03 7.7017519e-04]\n",
            "Predicciones:\n",
            " [7 2 1 ... 4 5 6]\n",
            "Reporte de clasificación:\n",
            "               precision    recall  f1-score   support\n",
            "\n",
            "           0       0.96      0.95      0.95       980\n",
            "           1       0.98      0.99      0.99      1135\n",
            "           2       0.57      0.79      0.66      1032\n",
            "           3       0.63      0.39      0.48      1010\n",
            "           4       0.90      0.96      0.93       982\n",
            "           5       0.91      0.70      0.79       892\n",
            "           6       0.78      0.88      0.83       958\n",
            "           7       0.89      0.74      0.81      1028\n",
            "           8       0.85      0.73      0.79       974\n",
            "           9       0.70      0.91      0.79      1009\n",
            "\n",
            "    accuracy                           0.81     10000\n",
            "   macro avg       0.82      0.80      0.80     10000\n",
            "weighted avg       0.82      0.81      0.80     10000\n",
            "\n",
            "Matriz de confusión:\n",
            " [[ 928    1    1    1    1   10   34    1    1    2]\n",
            " [   0 1125    1    0    1    1    0    7    0    0]\n",
            " [   1    2  812  125    6    2    3   54   18    9]\n",
            " [   0    0  493  391    0    1    0   19   49   57]\n",
            " [   1    2    0    1  945    1    7    0    0   25]\n",
            " [  11    3    0    2    2  621  175    8   13   57]\n",
            " [  20    4    0    1   76    6  846    0    1    4]\n",
            " [   4    3  130   75    5    0    1  765    5   40]\n",
            " [   1    1    0   23    2   21   12    3  713  198]\n",
            " [   5    2    0    3   13   16    9    6   38  917]]\n"
          ]
        }
      ]
    }
  ]
}