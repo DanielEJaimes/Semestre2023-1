{
  "nbformat": 4,
  "nbformat_minor": 0,
  "metadata": {
    "colab": {
      "provenance": []
    },
    "kernelspec": {
      "name": "python3",
      "display_name": "Python 3"
    },
    "language_info": {
      "name": "python"
    }
  },
  "cells": [
    {
      "cell_type": "code",
      "execution_count": 13,
      "metadata": {
        "id": "pTMLpxFK2wO9"
      },
      "outputs": [],
      "source": [
        "import numpy as np \n",
        "import matplotlib.pyplot as plt\n",
        "\n",
        "# Importamos lo necesario para crear la red\n",
        "from tensorflow import keras\n",
        "from keras.datasets import fashion_mnist\n",
        "from keras.models import Sequential\n",
        "from keras.layers import Dense, Dropout, Flatten\n",
        "from keras.layers import Conv2D, MaxPooling2D\n",
        "from keras import backend\n",
        "#Import paquetes de sklearn para comprobar el modelo\n",
        "from sklearn.metrics import classification_report, confusion_matrix"
      ]
    },
    {
      "cell_type": "code",
      "source": [
        "(xtrain, ytrain),(xtest,ytest) = fashion_mnist.load_data()\n",
        "ytrain[100]"
      ],
      "metadata": {
        "colab": {
          "base_uri": "https://localhost:8080/"
        },
        "id": "-sJiG1db2xn0",
        "outputId": "4f6394eb-d196-4a19-aeef-406b7b156ac1"
      },
      "execution_count": 14,
      "outputs": [
        {
          "output_type": "execute_result",
          "data": {
            "text/plain": [
              "8"
            ]
          },
          "metadata": {},
          "execution_count": 14
        }
      ]
    },
    {
      "cell_type": "code",
      "source": [
        "sample = np.random.randint(0,60000)\n",
        "plt.imshow(xtrain[sample], cmap = plt.cm.gray)\n",
        "plt.title('Label: '+str(ytrain[sample]))"
      ],
      "metadata": {
        "colab": {
          "base_uri": "https://localhost:8080/",
          "height": 469
        },
        "id": "kOTBtB2W2zOk",
        "outputId": "ff9fb2bf-f489-42ee-ab3e-bc554b2c113d"
      },
      "execution_count": 15,
      "outputs": [
        {
          "output_type": "execute_result",
          "data": {
            "text/plain": [
              "Text(0.5, 1.0, 'Label: 8')"
            ]
          },
          "metadata": {},
          "execution_count": 15
        },
        {
          "output_type": "display_data",
          "data": {
            "text/plain": [
              "<Figure size 640x480 with 1 Axes>"
            ],
            "image/png": "[encoded data removed]"
          },
          "metadata": {}
        }
      ]
    },
    {
      "cell_type": "code",
      "source": [
        "xtrain = xtrain.astype('float32')/255\n",
        "xtest = xtest.astype('float32')/255\n",
        "\n",
        "if backend.image_data_format() == 'channels_first':\n",
        "  xtrain = xtrain.reshape(xtrain.shape[0], 1, 28, 28)\n",
        "  xtest = xtest.reshape(xtest.shape[0], 1, 28, 28)\n",
        "  input_shape = (1, 28, 28)\n",
        "else:\n",
        "  xtrain = xtrain.reshape(xtrain.shape[0], 28, 28, 1)\n",
        "  xtest = xtest.reshape(xtest.shape[0], 28, 28, 1)\n",
        "  input_shape = (28, 28, 1)\n",
        "\n",
        "print(xtrain.shape)"
      ],
      "metadata": {
        "colab": {
          "base_uri": "https://localhost:8080/"
        },
        "id": "R9QIKixk21Q0",
        "outputId": "1e759108-3483-4020-9f6a-b42c95b527ff"
      },
      "execution_count": 16,
      "outputs": [
        {
          "output_type": "stream",
          "name": "stdout",
          "text": [
            "(60000, 28, 28, 1)\n"
          ]
        }
      ]
    },
    {
      "cell_type": "code",
      "source": [
        "ytrain = keras.utils.to_categorical(ytrain, 10)\n",
        "print(ytrain)"
      ],
      "metadata": {
        "colab": {
          "base_uri": "https://localhost:8080/"
        },
        "id": "g00KppqR22as",
        "outputId": "a672a80b-0d95-474e-86b6-cb28ae112412"
      },
      "execution_count": 17,
      "outputs": [
        {
          "output_type": "stream",
          "name": "stdout",
          "text": [
            "[[0. 0. 0. ... 0. 0. 1.]\n",
            " [1. 0. 0. ... 0. 0. 0.]\n",
            " [1. 0. 0. ... 0. 0. 0.]\n",
            " ...\n",
            " [0. 0. 0. ... 0. 0. 0.]\n",
            " [1. 0. 0. ... 0. 0. 0.]\n",
            " [0. 0. 0. ... 0. 0. 0.]]\n"
          ]
        }
      ]
    },
    {
      "cell_type": "code",
      "source": [
        "def build_model():\n",
        "  model = Sequential()\n",
        "  model.add(Conv2D(20,kernel_size=(3,3),\n",
        "                   activation='relu',\n",
        "                   input_shape=input_shape))\n",
        "  model.add(MaxPooling2D(pool_size=(2,2)))\n",
        "  model.add(Dropout(0.20))\n",
        "\n",
        "  model.add(Conv2D(40,kernel_size=(3,3), activation='relu'))\n",
        "  model.add(MaxPooling2D(pool_size=(2,2)))\n",
        "  model.add(Dropout(0.20))\n",
        "\n",
        "  model.add(Conv2D(80,kernel_size=(3,3), activation='relu'))\n",
        "  model.add(MaxPooling2D(pool_size=(2,2)))\n",
        "  model.add(Dropout(0.20))\n",
        "  \n",
        "\n",
        "  model.add(Flatten())\n",
        "  model.add(Dense(5, activation='relu'))\n",
        "  model.add(Dropout(0.5))\n",
        "  model.add(Dense(10, activation='softmax'))\n",
        "\n",
        "  model.compile(loss = keras.losses.categorical_crossentropy,\n",
        "                optimizer = 'adam',\n",
        "                metrics=['accuracy'])\n",
        "  return model"
      ],
      "metadata": {
        "id": "q-LFoowD23hk"
      },
      "execution_count": 18,
      "outputs": []
    },
    {
      "cell_type": "code",
      "source": [
        "model = build_model()\n",
        "model.summary()"
      ],
      "metadata": {
        "colab": {
          "base_uri": "https://localhost:8080/"
        },
        "id": "CDPME4RC24ok",
        "outputId": "8ed9c1ff-f75c-49b3-f260-d1d43b83dcbf"
      },
      "execution_count": 19,
      "outputs": [
        {
          "output_type": "stream",
          "name": "stdout",
          "text": [
            "Model: \"sequential_1\"\n",
            "_________________________________________________________________\n",
            " Layer (type)                Output Shape              Param #   \n",
            "=================================================================\n",
            " conv2d_3 (Conv2D)           (None, 26, 26, 20)        200       \n",
            "                                                                 \n",
            " max_pooling2d_3 (MaxPooling  (None, 13, 13, 20)       0         \n",
            " 2D)                                                             \n",
            "                                                                 \n",
            " dropout_4 (Dropout)         (None, 13, 13, 20)        0         \n",
            "                                                                 \n",
            " conv2d_4 (Conv2D)           (None, 11, 11, 40)        7240      \n",
            "                                                                 \n",
            " max_pooling2d_4 (MaxPooling  (None, 5, 5, 40)         0         \n",
            " 2D)                                                             \n",
            "                                                                 \n",
            " dropout_5 (Dropout)         (None, 5, 5, 40)          0         \n",
            "                                                                 \n",
            " conv2d_5 (Conv2D)           (None, 3, 3, 80)          28880     \n",
            "                                                                 \n",
            " max_pooling2d_5 (MaxPooling  (None, 1, 1, 80)         0         \n",
            " 2D)                                                             \n",
            "                                                                 \n",
            " dropout_6 (Dropout)         (None, 1, 1, 80)          0         \n",
            "                                                                 \n",
            " flatten_1 (Flatten)         (None, 80)                0         \n",
            "                                                                 \n",
            " dense_2 (Dense)             (None, 5)                 405       \n",
            "                                                                 \n",
            " dropout_7 (Dropout)         (None, 5)                 0         \n",
            "                                                                 \n",
            " dense_3 (Dense)             (None, 10)                60        \n",
            "                                                                 \n",
            "=================================================================\n",
            "Total params: 36,785\n",
            "Trainable params: 36,785\n",
            "Non-trainable params: 0\n",
            "_________________________________________________________________\n"
          ]
        }
      ]
    },
    {
      "cell_type": "code",
      "source": [
        "model.fit(xtrain, ytrain, batch_size=1000, epochs=12, verbose =1, validation_split=0.17)"
      ],
      "metadata": {
        "colab": {
          "base_uri": "https://localhost:8080/"
        },
        "id": "j0nEdRqj252U",
        "outputId": "58ad5101-9ab1-4e83-8dc0-eee267bd9670"
      },
      "execution_count": 20,
      "outputs": [
        {
          "output_type": "stream",
          "name": "stdout",
          "text": [
            "Epoch 1/12\n",
            "50/50 [==============================] - 40s 767ms/step - loss: 2.1810 - accuracy: 0.1801 - val_loss: 1.9814 - val_accuracy: 0.4513\n",
            "Epoch 2/12\n",
            "50/50 [==============================] - 38s 756ms/step - loss: 2.0225 - accuracy: 0.2660 - val_loss: 1.8097 - val_accuracy: 0.5208\n",
            "Epoch 3/12\n",
            "50/50 [==============================] - 37s 741ms/step - loss: 1.9188 - accuracy: 0.2998 - val_loss: 1.6379 - val_accuracy: 0.5865\n",
            "Epoch 4/12\n",
            "50/50 [==============================] - 35s 712ms/step - loss: 1.8428 - accuracy: 0.3234 - val_loss: 1.5217 - val_accuracy: 0.6399\n",
            "Epoch 5/12\n",
            "50/50 [==============================] - 37s 738ms/step - loss: 1.7824 - accuracy: 0.3462 - val_loss: 1.4068 - val_accuracy: 0.6644\n",
            "Epoch 6/12\n",
            "50/50 [==============================] - 37s 737ms/step - loss: 1.7296 - accuracy: 0.3540 - val_loss: 1.3279 - val_accuracy: 0.7121\n",
            "Epoch 7/12\n",
            "50/50 [==============================] - 37s 740ms/step - loss: 1.6867 - accuracy: 0.3623 - val_loss: 1.2143 - val_accuracy: 0.7445\n",
            "Epoch 8/12\n",
            "50/50 [==============================] - 35s 707ms/step - loss: 1.6523 - accuracy: 0.3846 - val_loss: 1.1741 - val_accuracy: 0.7565\n",
            "Epoch 9/12\n",
            "50/50 [==============================] - 37s 731ms/step - loss: 1.6283 - accuracy: 0.3982 - val_loss: 1.1495 - val_accuracy: 0.7528\n",
            "Epoch 10/12\n",
            "50/50 [==============================] - 38s 758ms/step - loss: 1.6071 - accuracy: 0.3995 - val_loss: 1.1269 - val_accuracy: 0.7368\n",
            "Epoch 11/12\n",
            "50/50 [==============================] - 38s 755ms/step - loss: 1.5911 - accuracy: 0.4066 - val_loss: 1.0819 - val_accuracy: 0.7464\n",
            "Epoch 12/12\n",
            "50/50 [==============================] - 37s 739ms/step - loss: 1.5795 - accuracy: 0.4108 - val_loss: 1.0331 - val_accuracy: 0.7501\n"
          ]
        },
        {
          "output_type": "execute_result",
          "data": {
            "text/plain": [
              "<keras.callbacks.History at 0x7f6221ad5b70>"
            ]
          },
          "metadata": {},
          "execution_count": 20
        }
      ]
    },
    {
      "cell_type": "code",
      "source": [
        "ypred=model.predict(xtest)\n",
        "print('Salida de la red:\\n', ypred[0])\n",
        "\n",
        "ypred = np.argmax(ypred, axis=1)\n",
        "print('Predicciones:\\n', ypred)\n",
        "\n",
        "print('Reporte de clasificación:\\n', classification_report(ytest, ypred))\n",
        "print('Matriz de confusión:\\n', confusion_matrix(ytest, ypred))"
      ],
      "metadata": {
        "colab": {
          "base_uri": "https://localhost:8080/"
        },
        "id": "tRuu-x87263E",
        "outputId": "455af67d-22d1-4a72-df1e-427fc055f8a8"
      },
      "execution_count": 21,
      "outputs": [
        {
          "output_type": "stream",
          "name": "stdout",
          "text": [
            "313/313 [==============================] - 2s 8ms/step\n",
            "Salida de la red:\n",
            " [8.3771674e-04 6.3596829e-04 1.5254500e-06 2.2942956e-04 1.9386238e-04\n",
            " 2.0767066e-01 1.2410985e-05 1.5636840e-01 6.9113616e-05 6.3398093e-01]\n",
            "Predicciones:\n",
            " [9 2 1 ... 8 1 7]\n",
            "Reporte de clasificación:\n",
            "               precision    recall  f1-score   support\n",
            "\n",
            "           0       0.73      0.79      0.76      1000\n",
            "           1       0.97      0.93      0.95      1000\n",
            "           2       0.60      0.36      0.45      1000\n",
            "           3       0.78      0.83      0.80      1000\n",
            "           4       0.43      0.88      0.58      1000\n",
            "           5       0.92      0.89      0.90      1000\n",
            "           6       0.33      0.09      0.14      1000\n",
            "           7       0.90      0.79      0.84      1000\n",
            "           8       0.94      0.93      0.93      1000\n",
            "           9       0.83      0.97      0.90      1000\n",
            "\n",
            "    accuracy                           0.75     10000\n",
            "   macro avg       0.74      0.75      0.73     10000\n",
            "weighted avg       0.74      0.75      0.73     10000\n",
            "\n",
            "Matriz de confusión:\n",
            " [[787   2  22  86  35   4  41   0  23   0]\n",
            " [  0 928   0  45  20   4   1   0   2   0]\n",
            " [ 10   4 363  10 550   0  60   0   3   0]\n",
            " [ 29  16   2 827 107   0  15   0   3   1]\n",
            " [  3   1  48  34 882   0  30   0   2   0]\n",
            " [  0   2   0   6   0 889   0  62   1  40]\n",
            " [242   2 169  51 423   0  86   0  27   0]\n",
            " [  0   0   0   0   0  54   0 793   0 153]\n",
            " [  5   1   0   2  15   5  31  10 930   1]\n",
            " [  0   0   0   1   0  14   0  15   0 970]]\n"
          ]
        }
      ]
    }
  ]
}